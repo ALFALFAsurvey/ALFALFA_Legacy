{
 "cells": [
  {
   "cell_type": "markdown",
   "id": "79993565-e162-43cb-9e3d-bb62438e39aa",
   "metadata": {},
   "source": [
    "# All Arecibo Sky Plots\n",
    "\n",
    "Plot both the grids, and the ALFALFA100 [Haynes et al. 2018](http://adsabs.harvard.edu/abs/2018ApJ...861...49H) sources. \n",
    "\n",
    "You will need to download the A100 catalog (https://egg.astro.cornell.edu/alfalfa/data/a100files/a100.code12.table2.190808.csv) into the directory you run this code. \n",
    "\n",
    "You will also need an ascii list of grid names. "
   ]
  },
  {
   "cell_type": "code",
   "execution_count": null,
   "id": "cf2df634-ceec-406b-8d39-febae08fc192",
   "metadata": {},
   "outputs": [],
   "source": [
    "#Import statements\n",
    "\n",
    "import pandas as pd\n",
    "from astropy import units as u\n",
    "from astropy.coordinates import SkyCoord, Angle\n",
    "\n",
    "from astropy import wcs\n",
    "\n",
    "from regions import RectangleSkyRegion\n",
    "import numpy as np\n",
    "\n",
    "import matplotlib.pyplot as plt"
   ]
  },
  {
   "cell_type": "code",
   "execution_count": null,
   "id": "b341e94d-a1f4-4f76-8b31-e2d0fd2c1a89",
   "metadata": {},
   "outputs": [],
   "source": [
    "#Defining some functions\n",
    "\n",
    "def makegridwcs(sky_center):\n",
    "    w = wcs.WCS(naxis=2)\n",
    "    w.wcs.crpix = [float(sky_center.ra/u.deg)+1, float(sky_center.dec/u.deg)+1]\n",
    "    #Adding one makes pixel values identical to RA and Dec\n",
    "    w.wcs.cdelt = [1.0,1.0]\n",
    "    w.wcs.crval = [float(sky_center.ra/u.deg), float(sky_center.dec/u.deg)]\n",
    "    w.wcs.ctype = [\"RA---CAR\", \"DEC--CAR\"]\n",
    "    return w\n",
    "\n",
    "def plotgrid(i):\n",
    "    sky_region = grids[\"box\"][i]\n",
    "    sky_center = grids[\"coord\"][i]\n",
    "    w = makegridwcs(sky_center)            \n",
    "    pixel_region = sky_region.to_pixel(w)\n",
    "    pixel_region.plot(ax=ax, color='red', lw=1.0)"
   ]
  },
  {
   "cell_type": "code",
   "execution_count": null,
   "id": "7820a440-9b10-4ab0-8096-22d664d41a9e",
   "metadata": {},
   "outputs": [],
   "source": [
    "#Opening the list of grids, and putting it into a Pandas database\n",
    "\n",
    "with open(\"gridlist_july2025_plusmissing.txt\", \"r\") as f:\n",
    "    grids = f.read().split()\n",
    "\n",
    "grids = pd.DataFrame({\"gridname\": grids})\n",
    "grids[\"coord\"] = grids.gridname.map(lambda x: SkyCoord(x[0:2] + \":\" + x[2:], unit=(u.hourangle, u.deg)))\n",
    "grids[\"box\"]   = grids.coord.map(lambda x:RectangleSkyRegion(x, width=2.4*u.deg, height = 2.4*u.deg))\n",
    "\n",
    "grids[\"ra\"] = grids[\"coord\"].map(lambda x: round(float(x.ra/u.deg)))\n",
    "grids[\"dec\"] = grids[\"coord\"].map(lambda x: round(float(x.dec/u.deg)))"
   ]
  },
  {
   "cell_type": "code",
   "execution_count": null,
   "id": "be03991e-5237-422a-98f8-ed227e3cd44b",
   "metadata": {},
   "outputs": [],
   "source": [
    "#Read the ALFALFA100 catalogue. \n",
    "#You will need the path to where you have a copy of this file of course. \n",
    "cat = pd.read_csv(\"a100.code12.table2.190808.csv\")"
   ]
  },
  {
   "cell_type": "code",
   "execution_count": null,
   "id": "88274727-eb11-46ce-872a-7e658a9a6f12",
   "metadata": {},
   "outputs": [],
   "source": [
    "cat"
   ]
  },
  {
   "cell_type": "code",
   "execution_count": null,
   "id": "d78b530e-6d4e-4fc3-bcfa-ae9f4c2d3b00",
   "metadata": {},
   "outputs": [],
   "source": [
    "#Plot the ALFALFA Spring Sky (RA = 07h30m to 16h30m or 112.5-247.5deg)\n",
    "\n",
    "fig, ax = plt.subplots(figsize=(20,6))\n",
    "plt.xlim(260,100)\n",
    "plt.ylim(-2,37)\n",
    "plt.plot(cat[\"RAdeg_HI\"],cat[\"DECdeg_HI\"],'ko', markersize=1)\n",
    "plt.ylabel('Dec (deg)') \n",
    "plt.xlabel('RA (deg)')\n",
    "\n",
    "for i in range(len(grids)): plotgrid(i)"
   ]
  },
  {
   "cell_type": "code",
   "execution_count": null,
   "id": "3103dbb3-3f45-4729-8b40-eca5eecb5e31",
   "metadata": {},
   "outputs": [],
   "source": [
    "#Plot one half of the Fall sky\n",
    "fig, ax = plt.subplots(figsize=(5,5))\n",
    "\n",
    "plt.xlim(360, 320)\n",
    "#plt.xlim(220,240)\n",
    "plt.plot(cat[\"RAdeg_HI\"],cat[\"DECdeg_HI\"],'ko', markersize=1)\n",
    "plt.ylim(-2,37)\n",
    "plt.ylabel('Dec (deg)') \n",
    "plt.xlabel('RA (deg)')\n",
    "\n",
    "for i in range(len(grids)): plotgrid(i)"
   ]
  },
  {
   "cell_type": "code",
   "execution_count": null,
   "id": "22593af7-f343-4977-a2ef-208abfb921a9",
   "metadata": {},
   "outputs": [],
   "source": [
    "#Plot the other half of the Fall sky\n",
    "fig, ax = plt.subplots(figsize=(5,5))\n",
    "\n",
    "plt.xlim(55, 0)\n",
    "plt.plot(cat[\"RAdeg_HI\"],cat[\"DECdeg_HI\"],'ko', markersize=1)\n",
    "plt.ylim(-2,37)\n",
    "plt.ylabel('Dec (deg)') \n",
    "plt.xlabel('RA (deg)')\n",
    "\n",
    "for i in range(len(grids)): plotgrid(i)"
   ]
  },
  {
   "cell_type": "code",
   "execution_count": null,
   "id": "9d6e9b35-0b62-49a1-aa1c-4304f2a27cab",
   "metadata": {},
   "outputs": [],
   "source": [
    "# Plot the entire sky: \n",
    "\n",
    "fig, ax = plt.subplots(figsize=(20,3))\n",
    "plt.xlim(365, -5)\n",
    "plt.plot(cat[\"RAdeg_HI\"],cat[\"DECdeg_HI\"],'ko', markersize=1)\n",
    "plt.ylim(-2,37)\n",
    "plt.ylabel('Dec (deg)') \n",
    "plt.xlabel('RA (deg)')\n",
    "\n",
    "for i in range(len(grids)): plotgrid(i)"
   ]
  }
 ],
 "metadata": {
  "kernelspec": {
   "display_name": "Python 3 (ipykernel)",
   "language": "python",
   "name": "python3"
  },
  "language_info": {
   "codemirror_mode": {
    "name": "ipython",
    "version": 3
   },
   "file_extension": ".py",
   "mimetype": "text/x-python",
   "name": "python",
   "nbconvert_exporter": "python",
   "pygments_lexer": "ipython3",
   "version": "3.11.13"
  }
 },
 "nbformat": 4,
 "nbformat_minor": 5
}
