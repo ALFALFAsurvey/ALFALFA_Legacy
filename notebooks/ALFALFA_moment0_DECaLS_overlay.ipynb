{
 "cells": [
  {
   "cell_type": "code",
   "execution_count": null,
   "id": "aee7054d-ef5f-4bd0-a4b0-43dacc7f6e46",
   "metadata": {},
   "outputs": [],
   "source": [
    "import os\n",
    "import numpy, astropy\n",
    "from astropy.wcs import WCS\n",
    "from astropy.coordinates import SkyCoord\n",
    "import urllib\n",
    "import astropy.io.fits as fits\n",
    "import matplotlib.pyplot as plt\n",
    "import requests\n",
    "from PIL import Image"
   ]
  },
  {
   "cell_type": "markdown",
   "id": "7aeecb91-efa6-44a4-9842-84fbd1ce0f34",
   "metadata": {},
   "source": [
    "This notebook takes an ALFALFA grid file, makes a quick moment zero map, downloads a DECaLS image for the corresponding sky area, and finally overlays HI contours on the image.\n",
    "\n",
    "**Note**: You will need the ALFALFA 1044+13 grid in that data directory in order for this notebook to run successfully. You can obtain this by running the [download_example_data.py](../scripts/download_example_data.py) script in the scripts directory. If you wish to run this with other grids then you can find instructions for accessing the grids in the [grid_access.md](../docs/grid_access.md) file in the docs folder or illustrated instructions on the [wiki](https://github.com/jonesmg/ALFALFA_Legacy/wiki/Grid-access-via-NRAO-archive)."
   ]
  },
  {
   "cell_type": "code",
   "execution_count": null,
   "id": "e387f3e2-9276-4d57-84af-3b4c784d6d37",
   "metadata": {},
   "outputs": [],
   "source": [
    "#Define the path to the data\n",
    "#You should already have run the data download script\n",
    "cwd = os.getcwd()+'/'\n",
    "data_path = cwd+'../data/A2010/pipeline.unknown_date/'"
   ]
  },
  {
   "cell_type": "code",
   "execution_count": null,
   "id": "64a16115-8c04-4f5d-b47f-e2c2407a8fde",
   "metadata": {},
   "outputs": [],
   "source": [
    "#Define the grid you are using\n",
    "grid_ra = '1044'\n",
    "grid_dec = '13'\n",
    "freq_slice = 'a'\n",
    "\n",
    "grid_filename = f'{grid_ra}+{grid_dec}{freq_slice}_spectral.fits'\n",
    "\n",
    "#Open the grid\n",
    "hdu = fits.open(data_path+grid_filename)"
   ]
  },
  {
   "cell_type": "code",
   "execution_count": null,
   "id": "818f859c-ae3f-46ef-824c-b857284678aa",
   "metadata": {},
   "outputs": [],
   "source": [
    "#Extract the data from fits file and average together the two polarizations\n",
    "cube = numpy.mean(hdu[0].data,axis=0)"
   ]
  },
  {
   "cell_type": "code",
   "execution_count": null,
   "id": "ef77271f-66d6-46be-aa03-7360bbf83859",
   "metadata": {},
   "outputs": [],
   "source": [
    "#Identify a line-free channel that is mostly just noise to estimate the rms from\n",
    "chan = 300\n",
    "\n",
    "#Calculate the rms\n",
    "rms = numpy.sqrt(numpy.mean(numpy.square(cube[chan].flatten())))\n",
    "print(f'RMS noise = {rms} mJy/beam')\n",
    "\n",
    "#Plot the channel to make sure it doesn't contain sources\n",
    "plt.imshow(cube[chan],origin='lower')"
   ]
  },
  {
   "cell_type": "code",
   "execution_count": null,
   "id": "eb85bef1-5443-4d2c-abdf-c8b8f4d3b32b",
   "metadata": {},
   "outputs": [],
   "source": [
    "#Make a simple moment zero map over a select channel range\n",
    "min_chan = 0\n",
    "max_chan = 550\n",
    "\n",
    "#Blank regions of the cube below 3 x rms\n",
    "blanked_cube = numpy.where(cube[min_chan:max_chan] > 3*rms, cube[min_chan:max_chan], 0.)\n",
    "\n",
    "#Sum the blanked cube to make the moment zero map\n",
    "mom0 = numpy.sum(blanked_cube, axis = 0)\n",
    "\n",
    "#Quickly plot the moment map\n",
    "plt.imshow(mom0,origin='lower')"
   ]
  },
  {
   "cell_type": "code",
   "execution_count": null,
   "id": "470b1e8f-80f1-409e-895b-b2f96e6223e6",
   "metadata": {},
   "outputs": [],
   "source": [
    "#Create a world coordinate system object for the moment map from the grid header\n",
    "mom0_wcs = WCS(hdu[0].header,naxis=2)\n",
    "#Note: The \"naxis=2\" means that only the first two axes (RA and Dec) will be used\n",
    "#The frequency/velocity axis and the Stokes axis will both be ignored\n",
    "\n",
    "print(mom0_wcs)"
   ]
  },
  {
   "cell_type": "markdown",
   "id": "56c38644-55ef-4a4c-8b2b-e2f88d67a08b",
   "metadata": {},
   "source": [
    "<br>\n",
    "<br>\n",
    "\n",
    "To give the moment zero map more physical units we should also multiply it by the width of a channel. This could be done simply in frequency to give units of Jy Hz / beam, but we will instead make the units Jy km/s / beam."
   ]
  },
  {
   "cell_type": "code",
   "execution_count": null,
   "id": "d6618f56-bcab-471c-a4ce-dbcd6c6ed7e5",
   "metadata": {},
   "outputs": [],
   "source": [
    "#Start by extracting the channel width from the header and build frequency array\n",
    "chan_df = hdu[0].header['CDELT3']\n",
    "freq = hdu[0].header['CRVAL3'] + hdu[0].header['CDELT3']*numpy.arange(0,1024,1)\n",
    "\n",
    "#Now build velocity array\n",
    "rest_freq = hdu[0].header['RESTFREQ']/1E6\n",
    "vel = (astropy.constants.c.value/1000)*(rest_freq-freq)/freq\n",
    "\n",
    "#Finally take the average channel width over the range used for the moment map\n",
    "#Technically you should do this channel by channel, but this is close enough\n",
    "chan_dv = numpy.mean(vel[min_chan:max_chan-1]-vel[min_chan+1:max_chan])\n",
    "print(f'Channel width = {chan_dv} km/s')"
   ]
  },
  {
   "cell_type": "code",
   "execution_count": null,
   "id": "4e311ce8-78ee-4568-81d8-f1951ce2f87e",
   "metadata": {},
   "outputs": [],
   "source": [
    "#Now multiply the moment zero map by the channel width and divide by 1000 to get Jy.km/s\n",
    "mom0_Jykms = mom0*chan_dv/1000"
   ]
  },
  {
   "cell_type": "markdown",
   "id": "d65e7b57-d072-41da-90ff-9a0e0af93045",
   "metadata": {},
   "source": [
    "<br>\n",
    "\n",
    "Now we need to decide on the dimensions that we want for our DECaLS image, build a WCS for it, and download the image. Then we need to reproject the moment zero map to the same dimensions as the DECaLS image and overlay them."
   ]
  },
  {
   "cell_type": "code",
   "execution_count": null,
   "id": "aff58d73-1f43-4e60-8612-d420bd30b590",
   "metadata": {},
   "outputs": [],
   "source": [
    "#Set the image size in pixels\n",
    "n_pix = 1024\n",
    "\n",
    "#Sets image size and pixel scale\n",
    "x_wid, y_wid = n_pix, n_pix\n",
    "pixscale = hdu[0].header['CDELT2']*144/n_pix\n",
    "\n",
    "#Sets the coordinates of image center\n",
    "center_ra = (numpy.floor(float(grid_ra)/100) + (float(grid_ra)-numpy.floor(float(grid_ra)/100)*100)/60)*15\n",
    "center_dec = grid_dec\n",
    "center_pos = SkyCoord(center_ra,center_dec,unit='deg')"
   ]
  },
  {
   "cell_type": "code",
   "execution_count": null,
   "id": "d43562a1-11a3-46e6-bef2-ca2011547971",
   "metadata": {},
   "outputs": [],
   "source": [
    "#Sets the DECaLS URL to pull both the fits and jpeg image from\n",
    "fits_url = f\"https://www.legacysurvey.org/viewer/cutout.fits?ra={center_pos.ra.deg}&dec={center_pos.dec.deg}&layer=ls-dr10&pixscale={pixscale*3600.}&width={x_wid}&height={y_wid}&bands=g\"\n",
    "fits_head = fits.getheader(fits_url)\n",
    "DECaLS_url = f\"https://www.legacysurvey.org/viewer/cutout.jpg?ra={center_pos.ra.deg}&dec={center_pos.dec.deg}&layer=ls-dr10&pixscale={pixscale*3600.}&width={x_wid}&height={y_wid}\"\n",
    "\n",
    "#Get WCS for image\n",
    "DECaLS_projection = WCS(fits_head)\n",
    "\n",
    "#Downloads and saves jpeg image\n",
    "urllib.request.urlretrieve(DECaLS_url, f'{grid_ra}+{grid_dec}_DECaLS.jpeg')"
   ]
  },
  {
   "cell_type": "code",
   "execution_count": null,
   "id": "2cbd2d19-4ec0-4e2d-bd65-312da96bd97b",
   "metadata": {},
   "outputs": [],
   "source": [
    "plt.imshow(mom0_Jykms,origin='lower')\n",
    "plt.colorbar()"
   ]
  },
  {
   "cell_type": "code",
   "execution_count": null,
   "id": "932769a9-8a69-49f6-bcdd-c7349d081253",
   "metadata": {},
   "outputs": [],
   "source": [
    "#Finally make the overlay\n",
    "\n",
    "#Open the DECaLS jpeg that we downloaded\n",
    "DECaLS_jpeg = Image.open(f'{grid_ra}+{grid_dec}_DECaLS.jpeg')\n",
    "\n",
    "#Set the contour levels\n",
    "min_contour = 0.5 #Jy km/s / beam\n",
    "contour_levels = min_contour*numpy.array([1,2,4,8,16])\n",
    "\n",
    "#Make the plot\n",
    "plt.figure(figsize=[8,8])\n",
    "ax = plt.subplot(111,projection=DECaLS_projection)\n",
    "ax.imshow(DECaLS_jpeg)\n",
    "ax.contour(mom0_Jykms,colors=['w','yellow','orange','r','magenta'],levels=contour_levels,linewidths=2,transform=ax.get_transform(mom0_wcs))\n",
    "plt.xlabel('RA')\n",
    "plt.ylabel('Dec')"
   ]
  },
  {
   "cell_type": "markdown",
   "id": "6f968d68-80ca-4055-b58a-4d63ada1a4e3",
   "metadata": {},
   "source": [
    "In the original example grid (1044+13a) there is a clear artifact near the center of the FoV. This can easily be removed by using the accompanying weights cube. Note that the weighting has already been applied to the flux scale in the data cube and that the numerical scale of the weights is aritrary. Thus, the weights should be used to scale/weight the data as this will make the flux scale non-physical. However, they can be used to mask regions of the data."
   ]
  },
  {
   "cell_type": "code",
   "execution_count": null,
   "id": "a019b02a-ee48-4e20-a884-998525097afb",
   "metadata": {},
   "outputs": [],
   "source": [
    "#Define the weights filename (this file need to be in the same directory as this notebook)\n",
    "wights_filename = f'{grid_ra}+{grid_dec}{freq_slice}_spectralweights.fits'\n",
    "\n",
    "#Open the weights FITS file\n",
    "wgts_hdu = fits.open(data_path+wights_filename)\n",
    "\n",
    "#Extract the weights cube\n",
    "wgt_cube = wgts_hdu[0].data"
   ]
  },
  {
   "cell_type": "code",
   "execution_count": null,
   "id": "cbd1dff4-9f63-4f60-9c6e-32e71aae36a7",
   "metadata": {},
   "outputs": [],
   "source": [
    "#Plot an example of the weight\n",
    "plt.imshow(wgt_cube[0][200],origin='lower')"
   ]
  },
  {
   "cell_type": "code",
   "execution_count": null,
   "id": "12d77ed6-c5e0-4565-a158-09c4230f8c63",
   "metadata": {},
   "outputs": [],
   "source": [
    "#Re-extract the data cube\n",
    "cube = hdu[0].data\n",
    "\n",
    "#Calculate the maximum weight value\n",
    "wgt_max = max(wgt_cube.flatten())\n",
    "print(wgt_max)\n",
    "\n",
    "#Blank regions with low weights\n",
    "#Here we have set the minimum weight to 30%, but this may need to be adjusted for other grids\n",
    "blanked_cube = numpy.where(wgt_cube/wgt_max > 0.3, cube, 0.)\n",
    "\n",
    "#Average together the two polarizations\n",
    "blanked_cube = numpy.mean(blanked_cube,axis=0)\n",
    "cube = numpy.mean(cube,axis=0)\n",
    "\n",
    "#Blank regions of the cube below 3 x rms\n",
    "blanked_cube = numpy.where(blanked_cube[min_chan:max_chan] > 3*rms, \n",
    "                           cube[min_chan:max_chan], 0.)\n",
    "\n",
    "#Sum the blanked cube to make the moment zero map\n",
    "mom0 = numpy.sum(blanked_cube, axis = 0)\n",
    "\n",
    "#Change scale to Jy / km/s / beam\n",
    "mom0_Jykms = mom0*chan_dv/1000"
   ]
  },
  {
   "cell_type": "code",
   "execution_count": null,
   "id": "c547a92d-c3a7-4b52-852d-d04a61011c1a",
   "metadata": {},
   "outputs": [],
   "source": [
    "#Finally make the overlay\n",
    "\n",
    "#Open the DECaLS jpeg that we downloaded\n",
    "DECaLS_jpeg = Image.open(f'{grid_ra}+{grid_dec}_DECaLS.jpeg')\n",
    "\n",
    "#Set the contour levels\n",
    "min_contour = 0.5 #Jy km/s / beam\n",
    "contour_levels = min_contour*numpy.array([1,2,4,8,16])\n",
    "\n",
    "#Make the plot\n",
    "plt.figure(figsize=[8,8])\n",
    "ax = plt.subplot(111,projection=DECaLS_projection)\n",
    "ax.imshow(DECaLS_jpeg)\n",
    "ax.contour(mom0_Jykms,colors=['w','yellow','orange','r','magenta'],levels=contour_levels,linewidths=2,transform=ax.get_transform(mom0_wcs))\n",
    "plt.xlabel('RA')\n",
    "plt.ylabel('Dec')"
   ]
  }
 ],
 "metadata": {
  "kernelspec": {
   "display_name": "Python [conda env:AALegacy]",
   "language": "python",
   "name": "conda-env-AALegacy-py"
  },
  "language_info": {
   "codemirror_mode": {
    "name": "ipython",
    "version": 3
   },
   "file_extension": ".py",
   "mimetype": "text/x-python",
   "name": "python",
   "nbconvert_exporter": "python",
   "pygments_lexer": "ipython3",
   "version": "3.11.13"
  }
 },
 "nbformat": 4,
 "nbformat_minor": 5
}
