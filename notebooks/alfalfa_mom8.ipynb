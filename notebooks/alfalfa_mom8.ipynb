{
 "cells": [
  {
   "cell_type": "markdown",
   "id": "ec6fbbd1-f869-4319-a02e-c2cf022d7a2c",
   "metadata": {},
   "source": [
    "# ALFALFA Moment Maps\n",
    "\n",
    "This notebook reads in an ALFALFA grid (all four spectra ranges) and weights and produces moment 8 maps (maps of the maximum intensity at any frequency along a line of sight), either for the four separate spectral ranges, and all four combined. \n",
    "\n",
    "It can also overlay optical detections from Durbala et al. 2020 by calling out to Vizier. \n",
    "\n",
    "You will need the ALFALFA grid in the directory you run this (or to edit the path to the .fits files). "
   ]
  },
  {
   "cell_type": "code",
   "execution_count": null,
   "id": "75febd47-6da1-4af8-a0cb-df68b52e2b20",
   "metadata": {},
   "outputs": [],
   "source": [
    "import copy\n",
    "from astropy.coordinates import SkyCoord\n",
    "import astropy.constants as const\n",
    "from astropy.io import fits\n",
    "from astropy.table import Table\n",
    "import astropy.units as u\n",
    "from astropy.wcs import WCS\n",
    "from matplotlib import colors\n",
    "import matplotlib.pyplot as plt\n",
    "import numpy as np\n",
    "from astroquery.vizier import Vizier\n",
    "\n",
    "HI_restfreq = 1420405751.0 * u.Hz"
   ]
  },
  {
   "cell_type": "code",
   "execution_count": null,
   "id": "64dea362-41a7-48f3-828b-3b84aa7f8522",
   "metadata": {},
   "outputs": [],
   "source": [
    "# Function to average the two polarizations together and return a fits HDU object with the same header\n",
    "def avg_pol(file):\n",
    "    stokesI = np.mean(file[0].data,axis=0)\n",
    "    new_file = fits.PrimaryHDU(data=stokesI,header=file[0].header)\n",
    "    return new_file"
   ]
  },
  {
   "cell_type": "code",
   "execution_count": null,
   "id": "fcfc1fc1-c4ec-4b66-a1eb-4a1c222b7dcb",
   "metadata": {},
   "outputs": [],
   "source": [
    "# Function to make a mom0 map with the option to clip at a given sigma value.\n",
    "# If the grid is an 'a' grid, only make a mom0 using the low frequency portion of the grid.\n",
    "# Returns a 2-d array.\n",
    "\n",
    "# *** NOT USED IN THIS NOTEBOOK, BUT SAVED FOR POSTERITY AS AN ALTERNATIVE ***\n",
    "def simp_mom0(file,sigma=False):\n",
    "\n",
    "    rms = np.sqrt(np.mean(np.square(file.data[300].flatten())))\n",
    "    \n",
    "    if file.header['CRVAL3'] > 1400:  # hopefully catches all \"a\" grids and not the others.\n",
    "        if sigma:\n",
    "            blanked_cube = np.where(np.abs(file.data[0:550]) > sigma*rms, file.data[0:550], 0.)\n",
    "            mom0 = np.sum(blanked_cube,axis=0)\n",
    "        else:\n",
    "            mom0 = np.sum(file.data[0:550,:,:],axis=0)\n",
    "        print(\"I think this is a grid a\")\n",
    "    else:\n",
    "        if sigma:\n",
    "            blanked_cube = np.where(np.abs(file.data) > sigma*rms, file.data, 0.)\n",
    "            mom0 = np.sum(blanked_cube,axis=0)\n",
    "        else:\n",
    "            mom0 = np.sum(file.data,axis=0)\n",
    "        print(\"grid b,c, or d\")\n",
    "    \n",
    "    return mom0"
   ]
  },
  {
   "cell_type": "code",
   "execution_count": null,
   "id": "878a3995-dbaa-43c7-9106-4012fe139e86",
   "metadata": {},
   "outputs": [],
   "source": [
    "# Function to make a mom8 map with the option to clip at a given sigma value.  Mom8 is the max value along freq axis.\n",
    "# If the grid is an 'a' grid, only make a mom0 using the low frequency portion of the grid.\n",
    "# Returns a 2-d array.\n",
    "\n",
    "def simp_mom8(file,sigma=False):\n",
    "\n",
    "    rms = np.sqrt(np.mean(np.square(file.data[300].flatten())))\n",
    "    \n",
    "    if file.header['CRVAL3'] > 1400:  # hopefully catches all \"a\" grids and not the others.\n",
    "        mom8 = np.max(file.data[0:550,:,:],axis=0)\n",
    "    else:\n",
    "        mom8 = np.max(file.data,axis=0)\n",
    "    \n",
    "    return mom8"
   ]
  },
  {
   "cell_type": "code",
   "execution_count": null,
   "id": "74ad9d79-a3ec-4f9d-8900-111f55fad48f",
   "metadata": {},
   "outputs": [],
   "source": [
    "# Function to calculate the frequency associated with a velocity.  Both are in the heliocentric frame.\n",
    "def vhelio2freq(vhelio):\n",
    "    z = vhelio / const.c\n",
    "    freq = HI_restfreq/(1+z)\n",
    "    return freq.decompose().to(u.Hz)"
   ]
  },
  {
   "cell_type": "code",
   "execution_count": null,
   "id": "a22500ef-b1ee-4852-b465-125b101b6971",
   "metadata": {},
   "outputs": [],
   "source": [
    "# Read in the data cube\n",
    "grida_hdu = fits.open('1044+13a_spectral.fits')\n",
    "gridb_hdu = fits.open('1044+13b_spectral.fits')\n",
    "gridc_hdu = fits.open('1044+13c_spectral.fits')\n",
    "gridd_hdu = fits.open('1044+13d_spectral.fits')"
   ]
  },
  {
   "cell_type": "code",
   "execution_count": null,
   "id": "fdc6ffe6-4496-4174-bf58-4b5ede1d7404",
   "metadata": {},
   "outputs": [],
   "source": [
    "# Read in the weights cube\n",
    "wgtsa_hdu = fits.open('1044+13a_spectralweights.fits')\n",
    "wgtsb_hdu = fits.open('1044+13b_spectralweights.fits')\n",
    "wgtsc_hdu = fits.open('1044+13c_spectralweights.fits')\n",
    "wgtsd_hdu = fits.open('1044+13d_spectralweights.fits')"
   ]
  },
  {
   "cell_type": "code",
   "execution_count": null,
   "id": "ae21bf07-f857-41ad-9bdd-c29efe919d91",
   "metadata": {},
   "outputs": [],
   "source": [
    "# Normalize the data by the weights\n",
    "grida_norm = copy.deepcopy(grida_hdu)\n",
    "gridb_norm = copy.deepcopy(gridb_hdu)\n",
    "gridc_norm = copy.deepcopy(gridc_hdu)\n",
    "gridd_norm = copy.deepcopy(gridd_hdu)\n",
    "grida_norm[0].data = grida_norm[0].data * wgtsa_hdu[0].data / np.max(wgtsa_hdu[0].data)\n",
    "gridb_norm[0].data = gridb_norm[0].data * wgtsb_hdu[0].data / np.max(wgtsb_hdu[0].data)\n",
    "gridc_norm[0].data = gridc_norm[0].data * wgtsc_hdu[0].data / np.max(wgtsc_hdu[0].data)\n",
    "gridd_norm[0].data = gridd_norm[0].data * wgtsd_hdu[0].data / np.max(wgtsd_hdu[0].data)"
   ]
  },
  {
   "cell_type": "code",
   "execution_count": null,
   "id": "ad42bac1-b0e6-4ee5-9070-f4db81314bb7",
   "metadata": {},
   "outputs": [],
   "source": [
    "# Get the spatial wcs information\n",
    "alfalfa_wcs = WCS(grida_hdu[0].header,naxis=2)"
   ]
  },
  {
   "cell_type": "code",
   "execution_count": null,
   "id": "d8586eb8-7ebf-4d68-9a7c-5d0c405a025b",
   "metadata": {},
   "outputs": [],
   "source": [
    "# Optional: plot the location of the galaxies\n",
    "# Open Durbala+2020 tables from CDS\n",
    "durb1 = Vizier(catalog=\"J/AJ/160/271/table1\", columns=['*', '_RAJ2000', '_DEJ2000'], row_limit=-1).query_constraints()[0]\n",
    "durb2 = Vizier(catalog=\"J/AJ/160/271/table2\", columns=['*', '_RAJ2000', '_DEJ2000'], row_limit=-1).query_constraints()[0]\n",
    "\n",
    "durb1_coord = SkyCoord(durb1['_RAJ2000'],durb1['_DEJ2000'],unit='deg')"
   ]
  },
  {
   "cell_type": "code",
   "execution_count": null,
   "id": "ce76167e-eea3-4202-b43d-de44177a444c",
   "metadata": {},
   "outputs": [],
   "source": [
    "#\n",
    "\n",
    "fig = plt.figure()\n",
    "fig_im, ax_im = plt.subplots(2, 2, figsize=(12,12), subplot_kw={'projection': alfalfa_wcs}, squeeze=False)\n",
    "\n",
    "durb1_freq = vhelio2freq(durb1['RVel'])\n",
    "\n",
    "i,j,k = 0,0,0\n",
    "for g,l in zip([grida_norm,gridb_norm,gridc_norm,gridd_norm],['Grid A','Grid B','Grid C','Grid D']):        \n",
    "    grid = avg_pol(g)\n",
    "    mom8 = simp_mom8(grid)\n",
    "    fmin,fmax = g[0].header['CRVAL3'],g[0].header['CRVAL3']+g[0].header['CDELT3']*g[0].header['NAXIS3'] # COMMENT OUT IF NOT PLOTTING GALS\n",
    "    durb1_subset = durb1_coord[(durb1_freq > fmin*u.MHz) & (durb1_freq < fmax*u.MHz)]                   # COMMENT OUT IF NOT PLOTTING GALS\n",
    "    if i == 0:\n",
    "        all_mom8 = mom8\n",
    "    else:\n",
    "        all_mom8 = np.concatenate((all_mom8,mom8))\n",
    "    k = i\n",
    "    if i >= 2:\n",
    "        j,k = 1,i-2\n",
    "    im = ax_im[j,k].imshow(mom8,norm=colors.LogNorm())\n",
    "    ax_im[j,k].autoscale(False)\n",
    "    ax_im[j,k].scatter_coord(durb1_subset,marker='s',color='white',facecolor='none',s=100)              # COMMENT OUT IF NOT PLOTTING GALS\n",
    "    ax_im[j,k].set_title(l)\n",
    "    if j==0:\n",
    "        ax_im[j,k].coords[0].set_axislabel('')\n",
    "        # ax_im[j,k].coords[0].set_ticklabel_visible(False)\n",
    "    else:\n",
    "        ax_im[j,k].coords[0].set_axislabel('Right Ascension')\n",
    "    if k>=1:\n",
    "        ax_im[j,k].coords[1].set_axislabel('')\n",
    "        # ax_im[j,k].coords[1].set_ticklabel_visible(False)\n",
    "    else:\n",
    "        ax_im[j,k].coords[1].set_axislabel('Declination')\n",
    "    i+=1\n",
    "all_mom8 = all_mom8.reshape(4,-1,np.shape(all_mom8)[-1])\n",
    "all_mom8 = np.max(all_mom8, axis=0)"
   ]
  },
  {
   "cell_type": "code",
   "execution_count": null,
   "id": "ceffc5e7-b85c-4c51-9262-b0b9e80ee974",
   "metadata": {},
   "outputs": [],
   "source": [
    "fig = plt.figure(figsize=(10,10))\n",
    "ax = fig.add_subplot(111,projection=alfalfa_wcs)\n",
    "im = ax.imshow(all_mom8,norm=colors.LogNorm())\n",
    "ax.autoscale(False)\n",
    "ax.scatter_coord(durb1_coord,marker='s',color='white',facecolor='none',s=150)\n",
    "ax.coords[0].set_axislabel('Right Ascension',fontsize=18)\n",
    "ax.coords[1].set_axislabel('Declination',fontsize=18)\n",
    "ax.coords[0].set_ticklabel(size=14)\n",
    "ax.coords[1].set_ticklabel(size=14)\n",
    "ax.set_title('ALFALFA moment 8')\n",
    "fig.colorbar(im)"
   ]
  },
  {
   "cell_type": "code",
   "execution_count": null,
   "id": "c0169706-4817-4380-8adc-655e231632f8",
   "metadata": {},
   "outputs": [],
   "source": []
  }
 ],
 "metadata": {
  "kernelspec": {
   "display_name": "Python 3 (ipykernel)",
   "language": "python",
   "name": "python3"
  },
  "language_info": {
   "codemirror_mode": {
    "name": "ipython",
    "version": 3
   },
   "file_extension": ".py",
   "mimetype": "text/x-python",
   "name": "python",
   "nbconvert_exporter": "python",
   "pygments_lexer": "ipython3",
   "version": "3.11.13"
  }
 },
 "nbformat": 4,
 "nbformat_minor": 5
}
