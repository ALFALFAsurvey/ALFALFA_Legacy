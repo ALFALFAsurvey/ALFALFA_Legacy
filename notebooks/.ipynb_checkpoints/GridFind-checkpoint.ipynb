{
 "cells": [
  {
   "cell_type": "markdown",
   "id": "2bdfe82f-d642-4d9d-82db-0c9bd1491161",
   "metadata": {},
   "source": [
    "# ALFALFA Grid Tools\n",
    "\n",
    "Some useful functions, and examples of use of searching ALFALFA grids. \n",
    "Includes: \n",
    "* Plotting exisiting grids\n",
    "* Finding edge grids\n",
    "* Finding if a sky position is in a specific grid\n",
    "* Finding which grid(s) a sky position is in\n",
    "\n",
    "From Grid Finding Subgroup at the ALFLAFA Legacy Workshop, July 2025\n",
    "* Greg Hallenbeck\n",
    "* Karen Masters\n",
    "* Mike Jones\n",
    "* Catie Bell"
   ]
  },
  {
   "cell_type": "code",
   "execution_count": null,
   "id": "cf2df634-ceec-406b-8d39-febae08fc192",
   "metadata": {},
   "outputs": [],
   "source": [
    "#Import statements\n",
    "\n",
    "import pandas as pd\n",
    "from astropy import units as u\n",
    "from astropy.coordinates import SkyCoord, Angle\n",
    "\n",
    "from astropy import wcs\n",
    "\n",
    "from regions import RectangleSkyRegion\n",
    "import numpy as np\n",
    "\n",
    "import matplotlib.pyplot as plt"
   ]
  },
  {
   "cell_type": "code",
   "execution_count": null,
   "id": "bcb171ae-543b-4fbc-a253-eab59433f7fd",
   "metadata": {},
   "outputs": [],
   "source": [
    "#Defining some functions\n",
    "\n",
    "def makegridwcs(sky_center):\n",
    "    w = wcs.WCS(naxis=2)\n",
    "    w.wcs.crpix = [float(sky_center.ra/u.deg)+1, float(sky_center.dec/u.deg)+1]\n",
    "    #Adding one makes pixel values identical to RA and Dec\n",
    "    w.wcs.cdelt = [1.0,1.0]\n",
    "    w.wcs.crval = [float(sky_center.ra/u.deg), float(sky_center.dec/u.deg)]\n",
    "    w.wcs.ctype = [\"RA---CAR\", \"DEC--CAR\"]\n",
    "    return w\n",
    "\n",
    "def plotgrid(i):\n",
    "    sky_region = grids[\"box\"][i]\n",
    "    sky_center = grids[\"coord\"][i]\n",
    "    w = makegridwcs(sky_center)            \n",
    "    pixel_region = sky_region.to_pixel(w)\n",
    "    pixel_region.plot(ax=ax, color='red', lw=1.0)\n",
    "\n",
    "def grid_find(skycoord):\n",
    "    return grids.loc[grids[\"box\"].map(lambda x: x.contains(skycoord, makegridwcs(x.center))) ]"
   ]
  },
  {
   "cell_type": "code",
   "execution_count": null,
   "id": "7820a440-9b10-4ab0-8096-22d664d41a9e",
   "metadata": {},
   "outputs": [],
   "source": [
    "#Opening the list of grids, and putting it into a Pandas database\n",
    "\n",
    "with open(\"gridlist_july2025_plusmissing.txt.txt\", \"r\") as f:\n",
    "    grids = f.read().split()\n",
    "\n",
    "grids = pd.DataFrame({\"gridname\": grids})\n",
    "grids[\"coord\"] = grids.gridname.map(lambda x: SkyCoord(x[0:2] + \":\" + x[2:], unit=(u.hourangle, u.deg)))\n",
    "grids[\"box\"]   = grids.coord.map(lambda x:RectangleSkyRegion(x, width=2.4*u.deg, height = 2.4*u.deg))\n",
    "\n",
    "grids[\"ra\"] = grids[\"coord\"].map(lambda x: round(float(x.ra/u.deg)))\n",
    "grids[\"dec\"] = grids[\"coord\"].map(lambda x: round(float(x.dec/u.deg)))\n",
    "\n",
    "# This adds a True/False column for if a given grid is an edge grid\n",
    "grids[\"boundary\"] = True\n",
    "for i in range(len(grids)):\n",
    "    above = False\n",
    "    below = False\n",
    "    left = False\n",
    "    right = False\n",
    "    if len(grids.loc[(grids.ra[i] - grids.ra == 2) & (grids.dec[i] == grids.dec)]):\n",
    "        left = True\n",
    "    if len(grids.loc[(grids.ra[i] - grids.ra == -2) & (grids.dec[i] == grids.dec)]):\n",
    "        right = True\n",
    "    if len(grids.loc[(grids.dec[i] - grids.dec == 2) & (grids.ra[i] == grids.ra)]):\n",
    "        above = True\n",
    "    if len(grids.loc[(grids.dec[i] - grids.dec == -2) & (grids.ra[i] == grids.ra)]):\n",
    "        below = True\n",
    "    if above and below and left and right:\n",
    "        grids.loc[i, \"boundary\"] = False"
   ]
  },
  {
   "cell_type": "code",
   "execution_count": null,
   "id": "bd280eb6-2d0e-41ca-9af4-4719eb46df9a",
   "metadata": {},
   "outputs": [],
   "source": [
    "grids.head()"
   ]
  },
  {
   "cell_type": "markdown",
   "id": "6fc84334-f772-4462-8183-37ede6275058",
   "metadata": {
    "scrolled": true
   },
   "source": [
    "## Plotting Grids\n",
    "\n",
    "1. Plot a single grid"
   ]
  },
  {
   "cell_type": "code",
   "execution_count": null,
   "id": "fcee2f50-6944-417d-a137-0d4217833148",
   "metadata": {},
   "outputs": [],
   "source": [
    "fig, ax = plt.subplots(figsize=(10,3))\n",
    "\n",
    "#You have to manually enter the limits for your plot. \n",
    "plt.xlim(50, -5)\n",
    "plt.ylim(-5,37)\n",
    "plt.ylabel('Dec (deg)') \n",
    "plt.xlabel('RA (deg)')\n",
    "\n",
    "i=42\n",
    "plotgrid(i)"
   ]
  },
  {
   "cell_type": "markdown",
   "id": "abf7884a-dbb6-4766-9eeb-8da9ccb15352",
   "metadata": {},
   "source": [
    "2. Plot all the grids on a rectangular all Arecibo sky projection"
   ]
  },
  {
   "cell_type": "code",
   "execution_count": null,
   "id": "d05011c0-6b32-4ab6-8316-3bfdff15c751",
   "metadata": {},
   "outputs": [],
   "source": [
    "fig, ax = plt.subplots(figsize=(10,3))\n",
    "plt.xlim(370, -5)\n",
    "plt.ylim(-5,37)\n",
    "plt.ylabel('Dec (deg)') \n",
    "plt.xlabel('RA (deg)')\n",
    "\n",
    "for i in range(len(grids)): plotgrid(i)"
   ]
  },
  {
   "cell_type": "markdown",
   "id": "ee9e7d7f-f7f9-403a-92a7-86f07ff04e26",
   "metadata": {},
   "source": [
    "## Grid Searching\n",
    "1. Is a sky position in a specific grid"
   ]
  },
  {
   "cell_type": "code",
   "execution_count": null,
   "id": "eebb2887-5b0a-4de6-9f70-40d8328b7214",
   "metadata": {},
   "outputs": [],
   "source": [
    "# Enter your RA and Dec in decimal degrees, \n",
    "# or do something more complicated to make a SkyCoord object\n",
    "ra = 100\n",
    "dec = 30\n",
    "skycoord = SkyCoord(ra, dec, unit='deg')\n",
    "\n",
    "#Enter your grid number if you know it\n",
    "i=42 #Grid number\n",
    "sky_region = grids[\"box\"][i]\n",
    "\n",
    "sky_region.contains(skycoord, makegridwcs(sky_region.center))"
   ]
  },
  {
   "cell_type": "markdown",
   "id": "ee00481e-8324-4261-a236-ce6d0520727b",
   "metadata": {},
   "source": [
    "2. Which grid is a sky position in? "
   ]
  },
  {
   "cell_type": "code",
   "execution_count": null,
   "id": "f99d39ae-e5fc-45ea-bd02-a2cf5584922f",
   "metadata": {},
   "outputs": [],
   "source": [
    "# Enter your RA and Dec in decimal degrees, \n",
    "# or do something more complicated to make a SkyCoord object\n",
    "ra = 188\n",
    "dec = 6\n",
    "skycoord = SkyCoord(ra, dec, unit='deg')\n",
    "\n",
    "found = grid_find(skycoord)\n",
    "found"
   ]
  },
  {
   "cell_type": "code",
   "execution_count": null,
   "id": "d240c867-35c1-427a-9a03-52ddb4737d88",
   "metadata": {},
   "outputs": [],
   "source": [
    "# Plot grids sky posiiton is in\n",
    "\n",
    "fig, ax = plt.subplots(figsize=(10,3))\n",
    "plt.xlim(np.max(found[\"ra\"])+3, np.min(found[\"ra\"])-3)\n",
    "plt.ylim(np.min(found[\"dec\"])-3,np.max(found[\"dec\"])+3)\n",
    "plt.plot(ra, dec,'o')\n",
    "plt.ylabel('Dec (deg)') \n",
    "plt.xlabel('RA (deg)')\n",
    "\n",
    "for i in found.index: plotgrid(i)"
   ]
  }
 ],
 "metadata": {
  "kernelspec": {
   "display_name": "Python 3 (ipykernel)",
   "language": "python",
   "name": "python3"
  },
  "language_info": {
   "codemirror_mode": {
    "name": "ipython",
    "version": 3
   },
   "file_extension": ".py",
   "mimetype": "text/x-python",
   "name": "python",
   "nbconvert_exporter": "python",
   "pygments_lexer": "ipython3",
   "version": "3.11.13"
  }
 },
 "nbformat": 4,
 "nbformat_minor": 5
}
