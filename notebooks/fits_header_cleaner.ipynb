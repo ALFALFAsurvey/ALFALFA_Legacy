{
 "cells": [
  {
   "cell_type": "markdown",
   "id": "38b8e001-02aa-4e04-817d-ebf089dc7c6f",
   "metadata": {},
   "source": [
    "# Imports"
   ]
  },
  {
   "cell_type": "code",
   "execution_count": 1,
   "id": "eeab05ff-fa93-4299-ad55-d9d96713f4f6",
   "metadata": {},
   "outputs": [],
   "source": [
    "import numpy as np\n",
    "from astropy.io import fits"
   ]
  },
  {
   "cell_type": "markdown",
   "id": "4a68c202-800b-4bd9-bf70-ff721825f5ea",
   "metadata": {},
   "source": [
    "# Read in data"
   ]
  },
  {
   "cell_type": "code",
   "execution_count": 2,
   "id": "eefa707d-f06e-4461-8cbb-7d1dcd3617b0",
   "metadata": {},
   "outputs": [],
   "source": [
    "grid_ra = '1044'\n",
    "grid_dec = '13'\n",
    "freq_slice = 'a'\n",
    "\n",
    "grid_filename = f'{grid_ra}+{grid_dec}{freq_slice}_spectral.fits'\n",
    "\n",
    "cube_use =  fits.open(grid_filename)"
   ]
  },
  {
   "cell_type": "code",
   "execution_count": 3,
   "id": "7f92e76e-8681-4773-835d-f3ada7159b44",
   "metadata": {},
   "outputs": [],
   "source": [
    "header_new = cube_use[\"PRIMARY\"].header.copy()"
   ]
  },
  {
   "cell_type": "markdown",
   "id": "5655832f-7b8c-4d97-b41b-5b692e539cc8",
   "metadata": {},
   "source": [
    "# Modifying Headers"
   ]
  },
  {
   "cell_type": "code",
   "execution_count": 4,
   "id": "770891de-368a-4c70-8481-5a2a744999bb",
   "metadata": {
    "scrolled": true
   },
   "outputs": [
    {
     "data": {
      "text/plain": [
       "SIMPLE  =                    T / conforms to FITS standard                      \n",
       "BITPIX  =                  -32 / array data type                                \n",
       "NAXIS   =                    4 / number of array dimensions                     \n",
       "NAXIS1  =                  144                                                  \n",
       "NAXIS2  =                  144                                                  \n",
       "NAXIS3  =                 1024                                                  \n",
       "NAXIS4  =                    2                                                  \n",
       "BMAJ    =  0.06333333333333332 / Major axis ALFALFA beam degrees                \n",
       "BMIN    =                0.055 / Minor axis ALFALFA beam degrees                \n",
       "OBSERVER= 'ALFALFA Survey Team' / Observers                                     \n",
       "OBJECT  = '1044+13 '           / ALFALFA data cube and grid center              \n",
       "TELESCOP= 'Arecibo '           / Telescope                                      \n",
       "INSTRUME= 'ALFA    '           / Receiver instrument                            \n",
       "BUNIT   = 'mJY/BEAM'           / Units of flux                                  \n",
       "EPOCH   =               2000.0 / Epoch of RA DEC                                \n",
       "VELREF  =                    2 / HELIO                                          \n",
       "RESTFREQ=         1420405751.0 / Rest frequency                                 \n",
       "CTYPE1  = 'RA---CAR'           / X-axis type                                    \n",
       "CRVAL1  =    162.2315687471258 / Reference pixel value RA Degrees               \n",
       "CDELT1  = -0.01674359374301118 / RA Degrees/pixel                               \n",
       "CRPIX1  =                  0.0 / Reference pixel                                \n",
       "CROTA1  =                  0.0                                                  \n",
       "CTYPE2  = 'DEC--CAR'           / Y-axis type                                    \n",
       "CRVAL2  =                 11.8 / Reference pixel value Dec Degrees              \n",
       "CDELT2  =  0.01666666666666667 / Dec Degrees/pixel                              \n",
       "CRPIX2  =                  0.0 / Reference pixel                                \n",
       "CROTA2  =                  0.0                                                  \n",
       "CTYPE3  = 'FREQ-HEL'           / Z-axis type                                    \n",
       "CRVAL3  =     1404.97068847848 / Reference pixel value frequency (MHz)          \n",
       "CDELT3  =  0.02441406317211658 / Channel width (MHz)                            \n",
       "CRPIX3  =                  0.0 / Reference pixel                                \n",
       "CROTA3  =                  0.0                                                  \n",
       "CTYPE4  = 'STOKES  '           / Pol-axis type                                  \n",
       "CRVAL4  =                  1.0                                                  \n",
       "CDELT4  =                  1.0                                                  \n",
       "CRPIX4  =                  1.0                                                  \n",
       "CROTA4  =                  0.0                                                  \n",
       "EQUINOX =               2000.0 / Equinox of coordinates                         \n",
       "ORIGIN  = 'Cornell University' / File creation location                         \n",
       "SURVEY  = 'ALFALFA '           / Survey Name                                    \n",
       "COMMENT ALFALFA Dual Polarization Data Cube                                     \n",
       "COMMENT FITS header created: April 23 2024 04:45:48                             \n",
       "COMMENT IDL data cube created: Wed Sep 13 10:33:15 2006                         \n",
       "COMMENT Website: http://egg.astro.cornell.edu/alfalfa/                          \n",
       "HISTORY Data cube name: 1044+13                                                 \n",
       "HISTORY Map projection: orthogonal                                              \n",
       "HISTORY wf_type: Gaussian                                                       \n",
       "HISTORY wf_fwhm: 2.0                                                            \n",
       "HISTORY Hanning? Yes                                                            \n",
       "HISTORY Median subtraction? No                                                  \n",
       "HISTORY GRMS: 50.38504                                                          \n",
       "HISTORY File list of drift scans                                                \n",
       "HISTORY   used to create this data cube:                                        \n",
       "HISTORY File: d103820+121720.503906711.sav                                      \n",
       "HISTORY File: d104827+121722.503907316.sav                                      \n",
       "HISTORY File: d103108+123154.504006044.sav                                      \n",
       "HISTORY File: d104114+123156.504006649.sav                                      \n",
       "HISTORY File: d102843+114809.504604484.sav                                      \n",
       "HISTORY File: d103849+114811.504605089.sav                                      \n",
       "HISTORY File: d104857+114813.504605694.sav                                      \n",
       "HISTORY File: d103643+120244.504904255.sav                                      \n",
       "HISTORY File: d104649+120246.504904860.sav                                      \n",
       "HISTORY File: d103649+133021.505004025.sav                                      \n",
       "HISTORY File: d104655+133023.505004630.sav                                      \n",
       "HISTORY File: d103254+131545.505103555.sav                                      \n",
       "HISTORY File: d104301+131547.505104160.sav                                      \n",
       "HISTORY File: d102950+130109.505302900.sav                                      \n",
       "HISTORY File: d103957+130111.505303505.sav                                      \n",
       "HISTORY File: d102830+134454.513270347.sav                                      \n",
       "HISTORY File: d103837+134454.513270952.sav                                      \n",
       "HISTORY File: d104843+134454.513271557.sav                                      \n",
       "HISTORY File: d104900+114048.514269218.sav                                      \n",
       "HISTORY File: d103737+115524.514368297.sav                                      \n",
       "HISTORY File: d104743+115524.514368902.sav                                      \n",
       "HISTORY File: d104856+121715.514469042.sav                                      \n",
       "HISTORY File: d103800+122436.514567849.sav                                      \n",
       "HISTORY File: d104807+122436.514568454.sav                                      \n",
       "HISTORY File: d104200+123912.514667852.sav                                      \n",
       "HISTORY File: d104914+130824.515266870.sav                                      \n",
       "HISTORY File: d103760+132300.515365961.sav                                      \n",
       "HISTORY File: d104806+132300.515366566.sav                                      \n",
       "HISTORY File: d103500+133736.515465546.sav                                      \n",
       "HISTORY File: d104507+133736.515466151.sav                                      \n",
       "HISTORY File: d104830+135212.515566118.sav                                      \n",
       "HISTORY File: d103522+114048.535418388.sav                                      \n",
       "HISTORY File: d104529+114048.535418993.sav                                      \n",
       "HISTORY File: d103659+115524.535518249.sav                                      \n",
       "HISTORY File: d104706+115524.535518854.sav                                      \n",
       "HISTORY File: d103629+121000.535617983.sav                                      \n",
       "HISTORY File: d104636+121000.535618588.sav                                      \n",
       "HISTORY File: d102914+122436.535717314.sav                                      \n",
       "HISTORY File: d103921+122436.535717919.sav                                      \n",
       "HISTORY File: d104928+122436.535718524.sav                                      \n",
       "HISTORY File: d103428+123912.535817391.sav                                      \n",
       "HISTORY File: d104435+123912.535817996.sav                                      \n",
       "HISTORY File: d103101+130824.536016713.sav                                      \n",
       "HISTORY File: d104108+130824.536017318.sav                                      \n",
       "HISTORY File: d102922+125348.536116378.sav                                      \n",
       "HISTORY File: d103929+125348.536116983.sav                                      \n",
       "HISTORY File: d104935+125348.536117588.sav                                      \n",
       "HISTORY File: d103659+132300.600414946.sav                                      \n",
       "HISTORY File: d104706+132260.600415551.sav                                      \n",
       "HISTORY File: d103345+135930.600614281.sav                                      \n",
       "HISTORY File: d104352+135930.600614886.sav                                      \n",
       "HISTORY File: d102855+135212.604804084.sav                                      \n",
       "HISTORY File: d103902+135212.604804689.sav                                      \n",
       "HISTORY File: d104908+135212.604805294.sav                                      \n",
       "HISTORY File: d103201+140648.604904034.sav                                      \n",
       "HISTORY File: d104208+140648.604904639.sav                                      \n",
       "HISTORY File: d103402+141406.605003918.sav                                      \n",
       "HISTORY File: d104408+141406.605004523.sav                                      \n",
       "HISTORY File: d103238+124630.605702183.sav                                      \n",
       "HISTORY File: d104244+124630.605702788.sav                                      \n",
       "HISTORY File: d102902+114806.606101024.sav                                      \n",
       "HISTORY File: d103908+114806.606101629.sav                                      \n",
       "HISTORY File: d104915+114806.606102234.sav                                      "
      ]
     },
     "execution_count": 4,
     "metadata": {},
     "output_type": "execute_result"
    }
   ],
   "source": [
    "header_new"
   ]
  },
  {
   "cell_type": "markdown",
   "id": "35382352-561f-4b5d-b761-2a752f3d6833",
   "metadata": {},
   "source": [
    "Change the keywords for the frequency axis, and add rest-frame frequency."
   ]
  },
  {
   "cell_type": "code",
   "execution_count": 5,
   "id": "9f22aa4d-cb97-410e-bd34-64f1702d42ad",
   "metadata": {},
   "outputs": [],
   "source": [
    "header_new[\"CTYPE3\"]  = \"FREQ\"\n",
    "header_new[\"CUNIT3\"]  = \"MHz\"\n",
    "header_new[\"SPECSYS\"] = \"HELIOCEN\"\n",
    "\n",
    "header_new[\"RESTFRQ\"] = 1420.405751768e6  # (Hz)\n",
    "\n",
    "header_new[\"CNAME3\"]  = \"FREQ-HEL\""
   ]
  },
  {
   "cell_type": "markdown",
   "id": "75a4eef1-754d-4f3f-af6c-60d6abd7fc76",
   "metadata": {},
   "source": [
    "Add keywords for beam"
   ]
  },
  {
   "cell_type": "code",
   "execution_count": 6,
   "id": "4d79f498-0d62-44ef-b8ea-0d6f5a687c12",
   "metadata": {},
   "outputs": [],
   "source": [
    "header_new[\"BMAJ\"]  = 3.8/60\n",
    "header_new[\"BMIN\"]  = 3.3/60\n",
    "header_new[\"BPA\"]   = 0"
   ]
  },
  {
   "cell_type": "markdown",
   "id": "871f8310-6cde-4b5c-9bf4-045eeb0e66b1",
   "metadata": {},
   "source": [
    "Change the stokes parameters to LL and RR"
   ]
  },
  {
   "cell_type": "code",
   "execution_count": 7,
   "id": "7fd5fb6b-2c3f-4ad9-b435-b95d9776ad50",
   "metadata": {},
   "outputs": [],
   "source": [
    "header_new[\"CRVAL4\"] = -2  # LL and RR"
   ]
  },
  {
   "cell_type": "markdown",
   "id": "592ee2fe-ca7b-42be-b5ee-941f87c43849",
   "metadata": {},
   "source": [
    "# Write fits"
   ]
  },
  {
   "cell_type": "code",
   "execution_count": 8,
   "id": "f7c52c62-66b3-4510-a4f1-4e40bae76a02",
   "metadata": {},
   "outputs": [],
   "source": [
    "cube_use[\"PRIMARY\"].header = header_new"
   ]
  },
  {
   "cell_type": "code",
   "execution_count": 9,
   "id": "113cebb2-29e5-4330-98ca-5747ffb1bde7",
   "metadata": {},
   "outputs": [],
   "source": [
    "grid_out_filename = f'{grid_ra}+{grid_dec}{freq_slice}_spectral_new.fits'\n",
    "cube_use.writeto(grid_out_filename)"
   ]
  },
  {
   "cell_type": "code",
   "execution_count": null,
   "id": "5091cbe5-4441-4893-a6d3-234e538137b9",
   "metadata": {},
   "outputs": [],
   "source": []
  }
 ],
 "metadata": {
  "kernelspec": {
   "display_name": "Python 3 (ipykernel)",
   "language": "python",
   "name": "python3"
  },
  "language_info": {
   "codemirror_mode": {
    "name": "ipython",
    "version": 3
   },
   "file_extension": ".py",
   "mimetype": "text/x-python",
   "name": "python",
   "nbconvert_exporter": "python",
   "pygments_lexer": "ipython3",
   "version": "3.11.8"
  }
 },
 "nbformat": 4,
 "nbformat_minor": 5
}
