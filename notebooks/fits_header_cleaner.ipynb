{
 "cells": [
  {
   "cell_type": "markdown",
   "id": "38b8e001-02aa-4e04-817d-ebf089dc7c6f",
   "metadata": {},
   "source": [
    "# Imports"
   ]
  },
  {
   "cell_type": "code",
   "execution_count": 1,
   "id": "eeab05ff-fa93-4299-ad55-d9d96713f4f6",
   "metadata": {},
   "outputs": [],
   "source": [
    "import numpy as np\n",
    "from astropy.io import fits"
   ]
  },
  {
   "cell_type": "markdown",
   "id": "4a68c202-800b-4bd9-bf70-ff721825f5ea",
   "metadata": {},
   "source": [
    "# Read in data"
   ]
  },
  {
   "cell_type": "code",
   "execution_count": 2,
   "id": "eefa707d-f06e-4461-8cbb-7d1dcd3617b0",
   "metadata": {},
   "outputs": [],
   "source": [
    "cube_use =  fits.open(\"0004+01a_spectral.fits\")"
   ]
  },
  {
   "cell_type": "code",
   "execution_count": 3,
   "id": "7f92e76e-8681-4773-835d-f3ada7159b44",
   "metadata": {},
   "outputs": [],
   "source": [
    "header_new = cube_use[\"PRIMARY\"].header.copy()"
   ]
  },
  {
   "cell_type": "markdown",
   "id": "5655832f-7b8c-4d97-b41b-5b692e539cc8",
   "metadata": {},
   "source": [
    "# Modifying Headers"
   ]
  },
  {
   "cell_type": "code",
   "execution_count": 4,
   "id": "770891de-368a-4c70-8481-5a2a744999bb",
   "metadata": {
    "scrolled": true
   },
   "outputs": [
    {
     "data": {
      "text/plain": [
       "SIMPLE  =                    T / conforms to FITS standard                      \n",
       "BITPIX  =                  -32 / array data type                                \n",
       "NAXIS   =                    4 / number of array dimensions                     \n",
       "NAXIS1  =                  144                                                  \n",
       "NAXIS2  =                  144                                                  \n",
       "NAXIS3  =                 1024                                                  \n",
       "NAXIS4  =                    2                                                  \n",
       "BMAJ    =  0.06333333333333332 / Major axis ALFALFA beam degrees                \n",
       "BMIN    =                0.055 / Minor axis ALFALFA beam degrees                \n",
       "OBSERVER= 'ALFALFA Survey Team' / Observers                                     \n",
       "OBJECT  = '0004+01 '           / ALFALFA data cube and grid center              \n",
       "TELESCOP= 'Arecibo '           / Telescope                                      \n",
       "INSTRUME= 'ALFA    '           / Receiver instrument                            \n",
       "BUNIT   = 'mJY/BEAM'           / Units of flux                                  \n",
       "EPOCH   =               2000.0 / Epoch of RA DEC                                \n",
       "VELREF  =                    2 / HELIO                                          \n",
       "RESTFREQ=         1420405751.0 / Rest frequency                                 \n",
       "CTYPE1  = 'RA---CAR'           / X-axis type                                    \n",
       "CRVAL1  =    2.200182827829829 / Reference pixel value RA Degrees               \n",
       "CDELT1  = -0.01666910366321640 / RA Degrees/pixel                               \n",
       "CRPIX1  =                  0.0 / Reference pixel                                \n",
       "CROTA1  =                  0.0                                                  \n",
       "CTYPE2  = 'DEC--CAR'           / Y-axis type                                    \n",
       "CRVAL2  =                 -0.2 / Reference pixel value Dec Degrees              \n",
       "CDELT2  =  0.01666666666666667 / Dec Degrees/pixel                              \n",
       "CRPIX2  =                  0.0 / Reference pixel                                \n",
       "CROTA2  =                  0.0                                                  \n",
       "CTYPE3  = 'FREQ-HEL'           / Z-axis type                                    \n",
       "CRVAL3  =     1404.97068847848 / Reference pixel value frequency (MHz)          \n",
       "CDELT3  =  0.02441406317211658 / Channel width (MHz)                            \n",
       "CRPIX3  =                  0.0 / Reference pixel                                \n",
       "CROTA3  =                  0.0                                                  \n",
       "CTYPE4  = 'STOKES  '           / Pol-axis type                                  \n",
       "CRVAL4  =                  1.0                                                  \n",
       "CDELT4  =                  1.0                                                  \n",
       "CRPIX4  =                  1.0                                                  \n",
       "CROTA4  =                  0.0                                                  \n",
       "EQUINOX =               2000.0 / Equinox of coordinates                         \n",
       "ORIGIN  = 'Cornell University' / File creation location                         \n",
       "SURVEY  = 'ALFALFA '           / Survey Name                                    \n",
       "COMMENT ALFALFA Dual Polarization Data Cube                                     \n",
       "COMMENT FITS header created: February 07 2025 14:53:51                          \n",
       "COMMENT IDL data cube created: Wed Jun 13 13:05:55 2012                         \n",
       "COMMENT Website: http://egg.astro.cornell.edu/alfalfa/                          \n",
       "HISTORY Data cube name: 0004+01                                                 \n",
       "HISTORY Map projection: orthogonal                                              \n",
       "HISTORY wf_type: Gaussian                                                       \n",
       "HISTORY wf_fwhm: 2.0                                                            \n",
       "HISTORY Hanning? Yes                                                            \n",
       "HISTORY Median subtraction? No                                                  \n",
       "HISTORY GRMS: 58.09601                                                          \n",
       "HISTORY File list of drift scans                                                \n",
       "HISTORY   used to create this data cube:                                        \n",
       "HISTORY File: d234731+020407.923300037.sav                                      \n",
       "HISTORY File: d235737+020407.923300039.sav                                      \n",
       "HISTORY File: d000744+020407.923300041.sav                                      \n",
       "HISTORY File: d235546+014931.923500028.sav                                      \n",
       "HISTORY File: d000553+014931.923500030.sav                                      \n",
       "HISTORY File: d234629+013455.924100022.sav                                      \n",
       "HISTORY File: d235635+013455.924100024.sav                                      \n",
       "HISTORY File: d000642+013455.924100026.sav                                      \n",
       "HISTORY File: d234821+012019.924200022.sav                                      \n",
       "HISTORY File: d235828+012019.924200024.sav                                      \n",
       "HISTORY File: d000834+012019.924200026.sav                                      \n",
       "HISTORY File: d235136+005107.924400020.sav                                      \n",
       "HISTORY File: d000143+005107.924400022.sav                                      \n",
       "HISTORY File: d234831+003631.924500018.sav                                      \n",
       "HISTORY File: d235837+003631.924500020.sav                                      \n",
       "HISTORY File: d000844+003631.924500022.sav                                      \n",
       "HISTORY File: d235450+002155.924600019.sav                                      \n",
       "HISTORY File: d000457+002155.924600021.sav                                      \n",
       "HISTORY File: d235539+000719.924800018.sav                                      \n",
       "HISTORY File: d000546+000719.924800020.sav                                      \n",
       "HISTORY File: d234835-000717.924900016.sav                                      \n",
       "HISTORY File: d235842-000717.924900018.sav                                      \n",
       "HISTORY File: d000849-000717.924900020.sav                                      \n",
       "HISTORY File: d235108+021125.925000016.sav                                      \n",
       "HISTORY File: d000114+021125.925000018.sav                                      \n",
       "HISTORY File: d001121+021125.925000020.sav                                      \n",
       "HISTORY File: d235344+015649.925100016.sav                                      \n",
       "HISTORY File: d000351+015649.925100018.sav                                      \n",
       "HISTORY File: d235250+014213.925200014.sav                                      \n",
       "HISTORY File: d000256+014213.925200016.sav                                      \n",
       "HISTORY File: d234930+012737.925300012.sav                                      \n",
       "HISTORY File: d235937+012737.925300014.sav                                      \n",
       "HISTORY File: d000943+012737.925300016.sav                                      \n",
       "HISTORY File: d235130+011301.925400012.sav                                      \n",
       "HISTORY File: d000137+011301.925400014.sav                                      \n",
       "HISTORY File: d234929+005825.925500012.sav                                      \n",
       "HISTORY File: d235935+005825.925500014.sav                                      \n",
       "HISTORY File: d000942+005825.925500016.sav                                      \n",
       "HISTORY File: d235258+004349.925600012.sav                                      \n",
       "HISTORY File: d000305+004349.925600014.sav                                      \n",
       "HISTORY File: d235235+001437.930800200.sav                                      \n",
       "HISTORY File: d000243+001437.930800202.sav                                      \n",
       "HISTORY File: d235139+000002.930900206.sav                                      \n",
       "HISTORY File: d000147+000002.930900208.sav                                      \n",
       "HISTORY File: d235435+000339.931500296.sav                                      \n",
       "HISTORY File: d000443+000339.931500298.sav                                      \n",
       "HISTORY File: d235501-000339.931600296.sav                                      \n",
       "HISTORY File: d000508-000339.931600298.sav                                      \n",
       "HISTORY File: d235130+002913.932100105.sav                                      \n",
       "HISTORY File: d000137+002913.932100107.sav                                      \n",
       "HISTORY File: d234933+010543.126000008.sav                                      \n",
       "HISTORY File: d235940+010543.126000010.sav                                      \n",
       "HISTORY File: d000947+010543.126000012.sav                                      "
      ]
     },
     "execution_count": 4,
     "metadata": {},
     "output_type": "execute_result"
    }
   ],
   "source": [
    "header_new"
   ]
  },
  {
   "cell_type": "markdown",
   "id": "35382352-561f-4b5d-b761-2a752f3d6833",
   "metadata": {},
   "source": [
    "Change the keywords for the frequency axis, and add rest-frame frequency."
   ]
  },
  {
   "cell_type": "code",
   "execution_count": 5,
   "id": "9f22aa4d-cb97-410e-bd34-64f1702d42ad",
   "metadata": {},
   "outputs": [],
   "source": [
    "header_new[\"CTYPE3\"]  = \"FREQ\"\n",
    "header_new[\"CUNIT3\"]  = \"MHz\"\n",
    "header_new[\"SPECSYS\"] = \"HELIOCEN\"\n",
    "\n",
    "header_new[\"RESTFREQ\"] = 1420.405751768e6  # (Hz)\n",
    "\n",
    "header_new[\"CNAME3\"]  = \"FREQ-HEL\""
   ]
  },
  {
   "cell_type": "markdown",
   "id": "75a4eef1-754d-4f3f-af6c-60d6abd7fc76",
   "metadata": {},
   "source": [
    "Add keywords for beam"
   ]
  },
  {
   "cell_type": "code",
   "execution_count": 6,
   "id": "4d79f498-0d62-44ef-b8ea-0d6f5a687c12",
   "metadata": {},
   "outputs": [],
   "source": [
    "header_new[\"BMAJ\"]  = 3.8/60\n",
    "header_new[\"BMIN\"]  = 3.3/60\n",
    "header_new[\"BPA\"]   = 0"
   ]
  },
  {
   "cell_type": "markdown",
   "id": "871f8310-6cde-4b5c-9bf4-045eeb0e66b1",
   "metadata": {},
   "source": [
    "Change the stokes parameters to LL and RR"
   ]
  },
  {
   "cell_type": "code",
   "execution_count": 7,
   "id": "7fd5fb6b-2c3f-4ad9-b435-b95d9776ad50",
   "metadata": {},
   "outputs": [],
   "source": [
    "header_new[\"CRVAL4\"] = -2  # LL and RR"
   ]
  },
  {
   "cell_type": "markdown",
   "id": "592ee2fe-ca7b-42be-b5ee-941f87c43849",
   "metadata": {},
   "source": [
    "# Write fits"
   ]
  },
  {
   "cell_type": "code",
   "execution_count": 8,
   "id": "f7c52c62-66b3-4510-a4f1-4e40bae76a02",
   "metadata": {},
   "outputs": [],
   "source": [
    "cube_use[\"PRIMARY\"].header = header_new"
   ]
  },
  {
   "cell_type": "code",
   "execution_count": 9,
   "id": "113cebb2-29e5-4330-98ca-5747ffb1bde7",
   "metadata": {},
   "outputs": [],
   "source": [
    "cube_use.writeto(\"0004+01a_spectral_new.fits\")"
   ]
  },
  {
   "cell_type": "code",
   "execution_count": null,
   "id": "5091cbe5-4441-4893-a6d3-234e538137b9",
   "metadata": {},
   "outputs": [],
   "source": []
  }
 ],
 "metadata": {
  "kernelspec": {
   "display_name": "Python 3 (ipykernel)",
   "language": "python",
   "name": "python3"
  },
  "language_info": {
   "codemirror_mode": {
    "name": "ipython",
    "version": 3
   },
   "file_extension": ".py",
   "mimetype": "text/x-python",
   "name": "python",
   "nbconvert_exporter": "python",
   "pygments_lexer": "ipython3",
   "version": "3.11.8"
  }
 },
 "nbformat": 4,
 "nbformat_minor": 5
}
