{
 "cells": [
  {
   "cell_type": "markdown",
   "id": "38b8e001-02aa-4e04-817d-ebf089dc7c6f",
   "metadata": {},
   "source": [
    "# Imports"
   ]
  },
  {
   "cell_type": "code",
   "execution_count": null,
   "id": "eeab05ff-fa93-4299-ad55-d9d96713f4f6",
   "metadata": {},
   "outputs": [],
   "source": [
    "import numpy as np\n",
    "from astropy.io import fits"
   ]
  },
  {
   "cell_type": "markdown",
   "id": "4a68c202-800b-4bd9-bf70-ff721825f5ea",
   "metadata": {},
   "source": [
    "# Read in data"
   ]
  },
  {
   "cell_type": "code",
   "execution_count": null,
   "id": "eefa707d-f06e-4461-8cbb-7d1dcd3617b0",
   "metadata": {},
   "outputs": [],
   "source": [
    "cube_use =  fits.open(\"0004+01a_spectral.fits\")"
   ]
  },
  {
   "cell_type": "code",
   "execution_count": null,
   "id": "7f92e76e-8681-4773-835d-f3ada7159b44",
   "metadata": {},
   "outputs": [],
   "source": [
    "header_new = cube_use[\"PRIMARY\"].header.copy()"
   ]
  },
  {
   "cell_type": "markdown",
   "id": "5655832f-7b8c-4d97-b41b-5b692e539cc8",
   "metadata": {},
   "source": [
    "# Modifying Headers"
   ]
  },
  {
   "cell_type": "code",
   "execution_count": null,
   "id": "770891de-368a-4c70-8481-5a2a744999bb",
   "metadata": {
    "scrolled": true
   },
   "outputs": [],
   "source": [
    "header_new"
   ]
  },
  {
   "cell_type": "markdown",
   "id": "35382352-561f-4b5d-b761-2a752f3d6833",
   "metadata": {},
   "source": [
    "Change the keywords for the frequency axis, and add rest-frame frequency."
   ]
  },
  {
   "cell_type": "code",
   "execution_count": null,
   "id": "9f22aa4d-cb97-410e-bd34-64f1702d42ad",
   "metadata": {},
   "outputs": [],
   "source": [
    "header_new[\"CTYPE3\"]  = \"FREQ\"\n",
    "header_new[\"CUNIT3\"]  = \"MHz\"\n",
    "header_new[\"SPECSYS\"] = \"HELIOCEN\"\n",
    "\n",
    "header_new[\"RESTFRQ\"] = 1420.405751768e6  # (Hz)\n",
    "\n",
    "header_new[\"CNAME3\"]  = \"FREQ-HEL\""
   ]
  },
  {
   "cell_type": "markdown",
   "id": "75a4eef1-754d-4f3f-af6c-60d6abd7fc76",
   "metadata": {},
   "source": [
    "Add keywords for beam"
   ]
  },
  {
   "cell_type": "code",
   "execution_count": null,
   "id": "4d79f498-0d62-44ef-b8ea-0d6f5a687c12",
   "metadata": {},
   "outputs": [],
   "source": [
    "header_new[\"BMAJ\"]  = 3.8/60\n",
    "header_new[\"BMIN\"]  = 3.3/60\n",
    "header_new[\"BPA\"]   = 0"
   ]
  },
  {
   "cell_type": "markdown",
   "id": "871f8310-6cde-4b5c-9bf4-045eeb0e66b1",
   "metadata": {},
   "source": [
    "Change the stokes parameters to LL and RR"
   ]
  },
  {
   "cell_type": "code",
   "execution_count": null,
   "id": "7fd5fb6b-2c3f-4ad9-b435-b95d9776ad50",
   "metadata": {},
   "outputs": [],
   "source": [
    "header_new[\"CRVAL4\"] = -2  # LL and RR"
   ]
  },
  {
   "cell_type": "markdown",
   "id": "592ee2fe-ca7b-42be-b5ee-941f87c43849",
   "metadata": {},
   "source": [
    "# Write fits"
   ]
  },
  {
   "cell_type": "code",
   "execution_count": null,
   "id": "f7c52c62-66b3-4510-a4f1-4e40bae76a02",
   "metadata": {},
   "outputs": [],
   "source": [
    "cube_use[\"PRIMARY\"].header = header_new"
   ]
  },
  {
   "cell_type": "code",
   "execution_count": null,
   "id": "113cebb2-29e5-4330-98ca-5747ffb1bde7",
   "metadata": {},
   "outputs": [],
   "source": [
    "cube_use.writeto(\"0004+01a_spectral_new.fits\")"
   ]
  },
  {
   "cell_type": "code",
   "execution_count": null,
   "id": "5091cbe5-4441-4893-a6d3-234e538137b9",
   "metadata": {},
   "outputs": [],
   "source": []
  }
 ],
 "metadata": {
  "kernelspec": {
   "display_name": "Python 3 (ipykernel)",
   "language": "python",
   "name": "python3"
  },
  "language_info": {
   "codemirror_mode": {
    "name": "ipython",
    "version": 3
   },
   "file_extension": ".py",
   "mimetype": "text/x-python",
   "name": "python",
   "nbconvert_exporter": "python",
   "pygments_lexer": "ipython3",
   "version": "3.11.8"
  }
 },
 "nbformat": 4,
 "nbformat_minor": 5
}
