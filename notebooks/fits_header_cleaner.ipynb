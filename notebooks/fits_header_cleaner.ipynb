{
 "cells": [
  {
   "cell_type": "markdown",
   "id": "38b8e001-02aa-4e04-817d-ebf089dc7c6f",
   "metadata": {},
   "source": [
    "# Imports"
   ]
  },
  {
   "cell_type": "code",
   "execution_count": null,
   "id": "eeab05ff-fa93-4299-ad55-d9d96713f4f6",
   "metadata": {},
   "outputs": [],
   "source": [
    "import numpy as np\n",
    "from astropy.io import fits\n",
    "from astropy.wcs import WCS"
   ]
  },
  {
   "cell_type": "markdown",
   "id": "e9d21274-c187-4a89-96b2-d2fef022ad96",
   "metadata": {},
   "source": [
    "This notebook takes an ALFALFA grid (as hosted in the NRAO archive) and updates the header keywords. This ensures the headers are accurate and compatible with modern standards, e.g., enabling spectral axis conversions in CARTA. \n",
    "\n",
    "Also note that the original WCS in the header can produce a slightly inaccurate projection and we therefore provide an approximate WCS solution that should be used for most applications. The extracted positions of published ALFALFA sources were corrected as described in [Brian Kent's thesis](https://ecommons.cornell.edu/items/a278d737-b863-4e07-b637-88587dff669f), but these correction were never propagated back to the grids themselves.\n",
    "\n",
    "All of these header updates are incoporated into the [load_grid](../scripts/load_grid.py) function that we recommend using to load ALFALFA data cubes into Python. However, this notebook may be useful if you wish to update the FITS files themselves for use with other software.\n",
    "\n",
    "**Note**: You will need to have already downloaded the grid you wish to use and placed it in the same directory as this notebook. You can find instructions for accessing the grids in the [grid_access.md](../docs/grid_access.md) file in the docs folder and illustrated instructions on the [wiki](https://github.com/jonesmg/ALFALFA_Legacy/wiki/Grid-access-via-NRAO-archive). In this case you need the 1044+13 grid and the \"a\" spectral cube needs to be placed in the current working directory."
   ]
  },
  {
   "cell_type": "markdown",
   "id": "4a68c202-800b-4bd9-bf70-ff721825f5ea",
   "metadata": {},
   "source": [
    "# Read in data"
   ]
  },
  {
   "cell_type": "code",
   "execution_count": null,
   "id": "eefa707d-f06e-4461-8cbb-7d1dcd3617b0",
   "metadata": {},
   "outputs": [],
   "source": [
    "# Define the grid you are using\n",
    "grid_ra = '1044'\n",
    "grid_dec = '13'\n",
    "freq_slice = 'a'\n",
    "\n",
    "grid_filename = f'{grid_ra}+{grid_dec}{freq_slice}_spectral.fits'\n",
    "\n",
    "# open the grid\n",
    "cube_use =  fits.open(grid_filename)"
   ]
  },
  {
   "cell_type": "code",
   "execution_count": null,
   "id": "7f92e76e-8681-4773-835d-f3ada7159b44",
   "metadata": {},
   "outputs": [],
   "source": [
    "# open the header\n",
    "header_new = cube_use[\"PRIMARY\"].header.copy()"
   ]
  },
  {
   "cell_type": "markdown",
   "id": "5655832f-7b8c-4d97-b41b-5b692e539cc8",
   "metadata": {},
   "source": [
    "# Modifying Headers"
   ]
  },
  {
   "cell_type": "code",
   "execution_count": null,
   "id": "770891de-368a-4c70-8481-5a2a744999bb",
   "metadata": {
    "scrolled": true
   },
   "outputs": [],
   "source": [
    "# view the current header\n",
    "header_new"
   ]
  },
  {
   "cell_type": "markdown",
   "id": "35382352-561f-4b5d-b761-2a752f3d6833",
   "metadata": {},
   "source": [
    "Change the keywords for the frequency axis, and add rest-frame frequency."
   ]
  },
  {
   "cell_type": "code",
   "execution_count": null,
   "id": "9f22aa4d-cb97-410e-bd34-64f1702d42ad",
   "metadata": {},
   "outputs": [],
   "source": [
    "header_new[\"CTYPE3\"]  = \"FREQ\"\n",
    "header_new[\"CUNIT3\"]  = \"MHz\"\n",
    "header_new[\"SPECSYS\"] = \"HELIOCEN\"\n",
    "\n",
    "header_new[\"RESTFRQ\"] = 1420.405751768e6  # (Hz)\n",
    "\n",
    "header_new[\"CNAME3\"]  = \"FREQ-HEL\""
   ]
  },
  {
   "cell_type": "markdown",
   "id": "75a4eef1-754d-4f3f-af6c-60d6abd7fc76",
   "metadata": {},
   "source": [
    "Add keywords for beam"
   ]
  },
  {
   "cell_type": "code",
   "execution_count": null,
   "id": "4d79f498-0d62-44ef-b8ea-0d6f5a687c12",
   "metadata": {},
   "outputs": [],
   "source": [
    "header_new[\"BMAJ\"]  = 3.8/60\n",
    "header_new[\"BMIN\"]  = 3.3/60\n",
    "header_new[\"BPA\"]   = 0"
   ]
  },
  {
   "cell_type": "markdown",
   "id": "871f8310-6cde-4b5c-9bf4-045eeb0e66b1",
   "metadata": {},
   "source": [
    "Change the stokes parameters to LL and RR"
   ]
  },
  {
   "cell_type": "code",
   "execution_count": null,
   "id": "7fd5fb6b-2c3f-4ad9-b435-b95d9776ad50",
   "metadata": {},
   "outputs": [],
   "source": [
    "header_new[\"CRVAL4\"] = -2  # LL and RR"
   ]
  },
  {
   "cell_type": "markdown",
   "id": "2ab32c6c-43c7-4619-b812-4d7faa81ab7a",
   "metadata": {},
   "source": [
    "Change BUNIT so it can be parsed by astropy.unit"
   ]
  },
  {
   "cell_type": "code",
   "execution_count": null,
   "id": "4da72e07-5d36-4ff4-9aff-3f5f1a0bb598",
   "metadata": {},
   "outputs": [],
   "source": [
    "header_new[\"BUNIT\"] = \"mJy/beam\""
   ]
  },
  {
   "cell_type": "markdown",
   "id": "d0fad60b-9fcb-489f-8339-3384afd1289f",
   "metadata": {},
   "source": [
    "# Update the WCS"
   ]
  },
  {
   "cell_type": "code",
   "execution_count": null,
   "id": "2340ebff-4809-4c45-8abc-87bfba3f8db1",
   "metadata": {},
   "outputs": [],
   "source": [
    "cen_ra = (float(grid_ra[:2]) + float(grid_ra[2:])/60)*15\n",
    "cen_dec = float(grid_dec)\n",
    "\n",
    "header_new['CRVAL1'] = cen_ra\n",
    "header_new['CDELT1'] = -1/60 #degrees\n",
    "header_new['CRPIX1'] = 72.5\n",
    "header_new['CRVAL2'] = cen_dec\n",
    "header_new['CDELT2'] = 1/60 #degrees\n",
    "header_new['CRPIX2'] = 72.5"
   ]
  },
  {
   "cell_type": "markdown",
   "id": "592ee2fe-ca7b-42be-b5ee-941f87c43849",
   "metadata": {},
   "source": [
    "# Write fits"
   ]
  },
  {
   "cell_type": "code",
   "execution_count": null,
   "id": "f7c52c62-66b3-4510-a4f1-4e40bae76a02",
   "metadata": {},
   "outputs": [],
   "source": [
    "# attach the new header to the data\n",
    "cube_use[\"PRIMARY\"].header = header_new"
   ]
  },
  {
   "cell_type": "code",
   "execution_count": null,
   "id": "113cebb2-29e5-4330-98ca-5747ffb1bde7",
   "metadata": {},
   "outputs": [],
   "source": [
    "# define the output grid name\n",
    "out_ext = 'new'\n",
    "grid_out_filename = f'{grid_ra}+{grid_dec}{freq_slice}_spectral_{out_ext}.fits'\n",
    "\n",
    "# write the new grid out\n",
    "cube_use.writeto(grid_out_filename)"
   ]
  }
 ],
 "metadata": {
  "kernelspec": {
   "display_name": "Python 3 (ipykernel)",
   "language": "python",
   "name": "python3"
  },
  "language_info": {
   "codemirror_mode": {
    "name": "ipython",
    "version": 3
   },
   "file_extension": ".py",
   "mimetype": "text/x-python",
   "name": "python",
   "nbconvert_exporter": "python",
   "pygments_lexer": "ipython3",
   "version": "3.11.13"
  }
 },
 "nbformat": 4,
 "nbformat_minor": 5
}
