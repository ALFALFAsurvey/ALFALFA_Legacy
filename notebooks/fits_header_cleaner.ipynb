{
 "cells": [
  {
   "cell_type": "code",
   "execution_count": null,
   "id": "02753a1f-87a0-41b7-b323-5b3987e63c7f",
   "metadata": {},
   "outputs": [],
   "source": [
    "# record header cleaner history\n",
    "header_cleaner_version = 1.2\n",
    "apply_version_list = [1.1, 1.2]"
   ]
  },
  {
   "cell_type": "markdown",
   "id": "ba3b115f-6a52-440c-8688-46e514170300",
   "metadata": {
    "execution": {
     "iopub.execute_input": "2025-09-04T10:01:36.405385Z",
     "iopub.status.busy": "2025-09-04T10:01:36.405134Z",
     "iopub.status.idle": "2025-09-04T10:01:36.409498Z",
     "shell.execute_reply": "2025-09-04T10:01:36.408944Z",
     "shell.execute_reply.started": "2025-09-04T10:01:36.405370Z"
    }
   },
   "source": [
    "This notebook takes an ALFALFA grid (as hosted in the NRAO archive) and updates the header keywords. This ensures the headers are accurate and compatible with modern standards, e.g., enabling spectral axis conversions in CARTA.\n",
    "\n",
    "**Note**: You will need to have already downloaded the grid you wish to use and placed it in the same directory as this notebook. You can find instructions for accessing the grids in the [grid_access.md](../docs/grid_access.md) file in the docs folder and illustrated instructions on the [wiki](https://github.com/jonesmg/ALFALFA_Legacy/wiki/Grid-access-via-NRAO-archive). In this case you need the 1044+13 grid and the \"a\" spectral cube needs to be placed in the current working directory."
   ]
  },
  {
   "cell_type": "markdown",
   "id": "0f51d274-610e-4058-ab08-321b51dfc2ca",
   "metadata": {},
   "source": [
    "changelog \n",
    "- 1.2\n",
    "    - change celestial coordinate reference pixels\n",
    "    - change pixel size\n",
    "- 1.1\n",
    "    - modify celestial coordinate keywords\n",
    "    - modify frequency keywords, correct rest-frame frequency\n",
    "    - correct polarization parameters\n",
    "    - add beam polarization angle\n",
    "    - correct unit parameters"
   ]
  },
  {
   "cell_type": "markdown",
   "id": "38b8e001-02aa-4e04-817d-ebf089dc7c6f",
   "metadata": {},
   "source": [
    "# Imports"
   ]
  },
  {
   "cell_type": "code",
   "execution_count": null,
   "id": "eeab05ff-fa93-4299-ad55-d9d96713f4f6",
   "metadata": {},
   "outputs": [],
   "source": [
    "import numpy as np\n",
    "from astropy.io import fits\n",
    "from astropy.coordinates import SkyCoord"
   ]
  },
  {
   "cell_type": "markdown",
   "id": "4a68c202-800b-4bd9-bf70-ff721825f5ea",
   "metadata": {},
   "source": [
    "# Read in data"
   ]
  },
  {
   "cell_type": "code",
   "execution_count": null,
   "id": "eefa707d-f06e-4461-8cbb-7d1dcd3617b0",
   "metadata": {},
   "outputs": [],
   "source": [
    "# Define the grid you are using\n",
    "grid_ra = '1044'\n",
    "grid_dec = '13'\n",
    "freq_slice = 'a'\n",
    "\n",
    "grid_filename = f'{grid_ra}+{grid_dec}{freq_slice}_spectral.fits'\n",
    "\n",
    "# open the grid\n",
    "cube_use =  fits.open(grid_filename)"
   ]
  },
  {
   "cell_type": "code",
   "execution_count": null,
   "id": "7f92e76e-8681-4773-835d-f3ada7159b44",
   "metadata": {},
   "outputs": [],
   "source": [
    "# open the header\n",
    "header_new = cube_use[\"PRIMARY\"].header.copy()"
   ]
  },
  {
   "cell_type": "code",
   "execution_count": null,
   "id": "770891de-368a-4c70-8481-5a2a744999bb",
   "metadata": {
    "scrolled": true
   },
   "outputs": [],
   "source": [
    "# view the current header\n",
    "header_new"
   ]
  },
  {
   "cell_type": "markdown",
   "id": "3e84e25c-62e9-435a-8883-5043b0791a96",
   "metadata": {},
   "source": [
    "Check the header cleaner version, and decide what modifications to apply. Can be changed manually"
   ]
  },
  {
   "cell_type": "code",
   "execution_count": null,
   "id": "da28856a-9489-4b9f-89b1-05e9a8121689",
   "metadata": {},
   "outputs": [],
   "source": [
    "if \"Fits header cleaner\" in header_new[\"HISTORY\"]:\n",
    "    print(\"Find previous header modification, will skip for version:\")\n",
    "    for item in header_new[\"history\"][list(header_new[\"history\"]).index(\"Fits header cleaner\"):]:\n",
    "        if \"FHC: version \" in item:\n",
    "            hist_version = float(item.strip(\"FHC: version \"))\n",
    "            if hist_version in apply_version_list:\n",
    "                print(hist_version)\n",
    "                apply_version_list.remove(hist_version)"
   ]
  },
  {
   "cell_type": "code",
   "execution_count": null,
   "id": "9ad3914f-2ec3-4d5e-a967-005c74ebc7ca",
   "metadata": {},
   "outputs": [],
   "source": [
    "print(\"Will apply header cleaner version: %s\" % apply_version_list)"
   ]
  },
  {
   "cell_type": "markdown",
   "id": "5655832f-7b8c-4d97-b41b-5b692e539cc8",
   "metadata": {},
   "source": [
    "# version 1.1: correcting keywords and parameters"
   ]
  },
  {
   "cell_type": "markdown",
   "id": "9b4954c2-f090-4a34-8f4f-0cf820018d88",
   "metadata": {},
   "source": [
    "Change the celestial coordinate keywords to conform with the fits standard"
   ]
  },
  {
   "cell_type": "code",
   "execution_count": null,
   "id": "a99fb0fb-e6ff-4605-b99e-9574a39e1b05",
   "metadata": {},
   "outputs": [],
   "source": [
    "if 1.1 in apply_version_list:\n",
    "    header_new.insert('CRPIX1', (\"CUNIT1\", \"deg\", ), after=True)\n",
    "    header_new.insert('CRPIX2', (\"CUNIT2\", \"deg\", ), after=True)\n",
    "    header_new[\"CTYPE1\"] = \"RA---TAN\"\n",
    "    header_new[\"CTYPE2\"] = \"DEC--TAN\"\n",
    "    header_new[\"CDELT1\"] = -header_new[\"CDELT2\"]\n",
    "    header_new.insert('INSTRUME', (\"LONPOLE\", 180.0, ), after=True)  # necessary to conform with fits standard"
   ]
  },
  {
   "cell_type": "markdown",
   "id": "35382352-561f-4b5d-b761-2a752f3d6833",
   "metadata": {},
   "source": [
    "Change the keywords for the frequency axis, and correct the rest-frame frequency."
   ]
  },
  {
   "cell_type": "code",
   "execution_count": null,
   "id": "9f22aa4d-cb97-410e-bd34-64f1702d42ad",
   "metadata": {},
   "outputs": [],
   "source": [
    "if 1.1 in apply_version_list:\n",
    "    header_new[\"CTYPE3\"]  = \"FREQ\"\n",
    "    header_new.insert('CRPIX3', (\"CUNIT3\", \"MHz\", ), after=True)\n",
    "    header_new.insert('CUNIT3', (\"CNAME3\", \"FREQ-HEL\", ), after=True)\n",
    "    \n",
    "    header_new.insert('EQUINOX', (\"SPECSYS\", \"HELIOCEN\", \"Spectral reference frame\"), after=True)\n",
    "    header_new.remove(\"EPOCH\")\n",
    "    header_new[\"VELREF\"] = (258, \"1 LSR, 2 HEL, 3 OBS, +256 Radio\")\n",
    "    \n",
    "    header_new.rename_keyword(\"RESTFREQ\", \"RESTFRQ\")  # rest frequency key word should be RESTFRQ\n",
    "    header_new[\"RESTFRQ\"] = (1420.405751e6, \"Rest-frame frequency (Hz)\")"
   ]
  },
  {
   "cell_type": "markdown",
   "id": "871f8310-6cde-4b5c-9bf4-045eeb0e66b1",
   "metadata": {},
   "source": [
    "Change the stokes parameters to LL and RR"
   ]
  },
  {
   "cell_type": "code",
   "execution_count": null,
   "id": "7fd5fb6b-2c3f-4ad9-b435-b95d9776ad50",
   "metadata": {},
   "outputs": [],
   "source": [
    "if 1.1 in apply_version_list:\n",
    "    header_new[\"CRVAL4\"] = -2  # LL and RR"
   ]
  },
  {
   "cell_type": "markdown",
   "id": "75a4eef1-754d-4f3f-af6c-60d6abd7fc76",
   "metadata": {},
   "source": [
    "Add keywords for beam"
   ]
  },
  {
   "cell_type": "code",
   "execution_count": null,
   "id": "4d79f498-0d62-44ef-b8ea-0d6f5a687c12",
   "metadata": {},
   "outputs": [],
   "source": [
    "if 1.1 in apply_version_list:\n",
    "    header_new.insert('BMIN', (\"BPA\", 0, \"ALFALFA beam position angles\"), after=True)"
   ]
  },
  {
   "cell_type": "markdown",
   "id": "2ab32c6c-43c7-4619-b812-4d7faa81ab7a",
   "metadata": {},
   "source": [
    "Change BUNIT so it can be parsed by astropy.unit"
   ]
  },
  {
   "cell_type": "code",
   "execution_count": null,
   "id": "4da72e07-5d36-4ff4-9aff-3f5f1a0bb598",
   "metadata": {},
   "outputs": [],
   "source": [
    "if 1.1 in apply_version_list:\n",
    "    header_new.insert('BUNIT', (\"BTYPE\", \"Intensity\", ))\n",
    "    header_new[\"BUNIT\"] = \"mJy/beam\""
   ]
  },
  {
   "cell_type": "code",
   "execution_count": null,
   "id": "c6bb3473-e01b-4787-a0fe-85a2d1392e1f",
   "metadata": {},
   "outputs": [],
   "source": [
    "if 1.1 in apply_version_list:\n",
    "    if \"Fits header cleaner\" not in header_new[\"HISTORY\"]:\n",
    "        header_new.add_history(\"Fits header cleaner\")\n",
    "    header_new.add_history(\"FHC: version 1.1\")"
   ]
  },
  {
   "cell_type": "markdown",
   "id": "5cec01b8-6252-45d3-a1d2-be90b562c7d2",
   "metadata": {},
   "source": [
    "# version 0.2: reset celestial coordinate"
   ]
  },
  {
   "cell_type": "markdown",
   "id": "fd73d6ff-e63e-45f0-9124-11c28df50424",
   "metadata": {},
   "source": [
    "Set the reference pixel to the central pixel, at the position marked by the grid name"
   ]
  },
  {
   "cell_type": "code",
   "execution_count": null,
   "id": "f0a4a7de-0697-473b-a8e7-8d3c0de68b69",
   "metadata": {},
   "outputs": [],
   "source": [
    "if 1.2 in apply_version_list:\n",
    "    grid_ra, grid_dec = header_new[\"OBJECT\"].split(\"+\")\n",
    "    center_pos = SkyCoord(\"%s:%s:00 %s:00:00\" % (grid_ra[:2], grid_ra[2:], grid_dec), unit=\"hour, deg\")"
   ]
  },
  {
   "cell_type": "code",
   "execution_count": null,
   "id": "44130ff3-3562-47f5-b360-529b4c335203",
   "metadata": {},
   "outputs": [],
   "source": [
    "if 1.2 in apply_version_list:\n",
    "    header_new[\"CRVAL1\"] = center_pos.ra.deg\n",
    "    header_new[\"CRPIX1\"] = header_new[\"NAXIS1\"]/2. + 0.5\n",
    "    header_new[\"CRVAL2\"] = center_pos.dec.deg\n",
    "    header_new[\"CRPIX2\"] = header_new[\"NAXIS2\"]/2. + 0.5"
   ]
  },
  {
   "cell_type": "markdown",
   "id": "99cf4885-9473-46f6-ba9a-838a400faaa9",
   "metadata": {},
   "source": [
    "Change pixel size, each grid file should be 2.4 x 2.4 degree sampled by 144x144 pixels, so each pixel is exactly 1 arcmin"
   ]
  },
  {
   "cell_type": "code",
   "execution_count": null,
   "id": "071801cc-ec31-45a7-9f74-2aeb1a5cc9f6",
   "metadata": {},
   "outputs": [],
   "source": [
    "if 1.2 in apply_version_list:\n",
    "    header_new[\"CDELT1\"] = -1./60  # degree\n",
    "    header_new[\"CDELT2\"] = 1./60"
   ]
  },
  {
   "cell_type": "code",
   "execution_count": null,
   "id": "de0e8417-d45c-4eae-b565-d67340314f95",
   "metadata": {},
   "outputs": [],
   "source": [
    "if 1.2 in apply_version_list:\n",
    "    if \"Fits header cleaner\" not in header_new[\"HISTORY\"]:\n",
    "        header_new.add_history(\"Fits header cleaner\")\n",
    "    header_new.add_history(\"FHC: version 1.2\")"
   ]
  },
  {
   "cell_type": "markdown",
   "id": "365f41f1-b2fa-48d0-bce9-032a3d37454b",
   "metadata": {},
   "source": [
    "# Grouping into function"
   ]
  },
  {
   "cell_type": "code",
   "execution_count": 20,
   "id": "d7fa3bbc-17db-4a52-8603-44f1ec094fdf",
   "metadata": {
    "execution": {
     "iopub.execute_input": "2025-09-05T14:48:06.276793Z",
     "iopub.status.busy": "2025-09-05T14:48:06.276533Z",
     "iopub.status.idle": "2025-09-05T14:48:06.284307Z",
     "shell.execute_reply": "2025-09-05T14:48:06.283891Z",
     "shell.execute_reply.started": "2025-09-05T14:48:06.276775Z"
    }
   },
   "outputs": [],
   "source": [
    "def fits_header_clean(header, apply_version=None):\n",
    "    \n",
    "    header_new = copy.deepcopy(header)\n",
    "    \n",
    "    # version 1.2\n",
    "    apply_version_list = apply_version if apply_version is not None else [1.1, 1.2]\n",
    "    if \"Fits header cleaner\" in header_new[\"HISTORY\"]:\n",
    "        print(\"Find previous header modification, will skip for version:\")\n",
    "        for item in header_new[\"history\"][list(header_new[\"history\"]).index(\"Fits header cleaner\"):]:\n",
    "            if \"FHC: version \" in item:\n",
    "                hist_version = float(item.strip(\"FHC: version \"))\n",
    "                if hist_version in apply_version_list:\n",
    "                    print(hist_version)\n",
    "                    apply_version_list.remove(hist_version)\n",
    "    print(\"Will apply header cleaner version: %s\" % apply_version_list)\n",
    "\n",
    "    if 1.1 in apply_version_list:\n",
    "        # celestial coordinate\n",
    "        header_new.insert('CRPIX1', (\"CUNIT1\", \"deg\", ), after=True)\n",
    "        header_new.insert('CRPIX2', (\"CUNIT2\", \"deg\", ), after=True)\n",
    "        header_new[\"CTYPE1\"] = \"RA---TAN\"\n",
    "        header_new[\"CTYPE2\"] = \"DEC--TAN\"\n",
    "        header_new[\"CDELT1\"] = -header_new[\"CDELT2\"]\n",
    "        header_new.insert('INSTRUME', (\"LONPOLE\", 180.0, ), after=True)  # necessary to conform with fits standard\n",
    "        \n",
    "        # spectral axis\n",
    "        header_new[\"CTYPE3\"]  = \"FREQ\"\n",
    "        header_new.insert('CRPIX3', (\"CUNIT3\", \"MHz\", ), after=True)\n",
    "        header_new.insert('CUNIT3', (\"CNAME3\", \"FREQ-HEL\", ), after=True)\n",
    "        \n",
    "        header_new.insert('EQUINOX', (\"SPECSYS\", \"HELIOCEN\", \"Spectral reference frame\"), after=True)\n",
    "        header_new.remove(\"EPOCH\")\n",
    "        header_new[\"VELREF\"] = (258, \"1 LSR, 2 HEL, 3 OBS, +256 Radio\")\n",
    "        \n",
    "        header_new.rename_keyword(\"RESTFREQ\", \"RESTFRQ\")  # rest frequency key word should be RESTFRQ\n",
    "        header_new[\"RESTFRQ\"] = (1420.405751e6, \"Rest-frame frequency (Hz)\")\n",
    "\n",
    "        # polarization axis\n",
    "        header_new[\"CRVAL4\"] = -2  # LL and RR\n",
    "    \n",
    "        # beam information\n",
    "        header_new.insert('BMIN', (\"BPA\", 0, \"ALFALFA beam position angles\"), after=True)\n",
    "\n",
    "        # unit\n",
    "        header_new.insert('BUNIT', (\"BTYPE\", \"Intensity\", ))\n",
    "        header_new[\"BUNIT\"] = \"mJy/beam\"\n",
    "\n",
    "        if \"Fits header cleaner\" not in header_new[\"HISTORY\"]:\n",
    "            header_new.add_history(\"Fits header cleaner\")\n",
    "        header_new.add_history(\"FHC: version 1.1\")\n",
    "\n",
    "    if 1.2 in apply_version_list:\n",
    "        grid_ra, grid_dec = header_new[\"OBJECT\"].split(\"+\")\n",
    "        center_pos = SkyCoord(\"%s:%s:00 %s:00:00\" % (grid_ra[:2], grid_ra[2:], grid_dec), unit=\"hour, deg\")\n",
    "\n",
    "        header_new[\"CRVAL1\"] = center_pos.ra.deg\n",
    "        header_new[\"CRPIX1\"] = header_new[\"NAXIS1\"]/2. + 0.5\n",
    "        header_new[\"CRVAL2\"] = center_pos.dec.deg\n",
    "        header_new[\"CRPIX2\"] = header_new[\"NAXIS2\"]/2. + 0.5\n",
    "\n",
    "        header_new[\"CDELT1\"] = -1./60  # degree\n",
    "        header_new[\"CDELT2\"] = 1./60\n",
    "\n",
    "        if \"Fits header cleaner\" not in header_new[\"HISTORY\"]:\n",
    "            header_new.add_history(\"Fits header cleaner\")\n",
    "        header_new.add_history(\"FHC: version 1.2\")\n",
    "    \n",
    "    return header_new"
   ]
  },
  {
   "cell_type": "markdown",
   "id": "592ee2fe-ca7b-42be-b5ee-941f87c43849",
   "metadata": {},
   "source": [
    "# Write fits"
   ]
  },
  {
   "cell_type": "code",
   "execution_count": null,
   "id": "f7c52c62-66b3-4510-a4f1-4e40bae76a02",
   "metadata": {},
   "outputs": [],
   "source": [
    "# attach the new header to the data\n",
    "cube_use[\"PRIMARY\"].header = header_new"
   ]
  },
  {
   "cell_type": "code",
   "execution_count": null,
   "id": "113cebb2-29e5-4330-98ca-5747ffb1bde7",
   "metadata": {},
   "outputs": [],
   "source": [
    "# define the output grid name\n",
    "out_ext = 'new'\n",
    "grid_out_filename = f'{grid_ra}+{grid_dec}{freq_slice}_spectral_{out_ext}.fits'\n",
    "\n",
    "# write the new grid out\n",
    "cube_use.writeto(grid_out_filename, overwrite=True)"
   ]
  },
  {
   "cell_type": "code",
   "execution_count": null,
   "id": "b6e7bb69-4204-46db-b0f0-a886a8b556db",
   "metadata": {},
   "outputs": [],
   "source": []
  }
 ],
 "metadata": {
  "kernelspec": {
   "display_name": "Python 3 (ipykernel)",
   "language": "python",
   "name": "python3"
  },
  "language_info": {
   "codemirror_mode": {
    "name": "ipython",
    "version": 3
   },
   "file_extension": ".py",
   "mimetype": "text/x-python",
   "name": "python",
   "nbconvert_exporter": "python",
   "pygments_lexer": "ipython3",
   "version": "3.11.11"
  },
  "widgets": {
   "application/vnd.jupyter.widget-state+json": {
    "state": {},
    "version_major": 2,
    "version_minor": 0
   }
  }
 },
 "nbformat": 4,
 "nbformat_minor": 5
}
