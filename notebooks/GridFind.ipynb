{
 "cells": [
  {
   "cell_type": "markdown",
   "id": "2bdfe82f-d642-4d9d-82db-0c9bd1491161",
   "metadata": {},
   "source": [
    "# ALFALFA Grid Tools\n",
    "\n",
    "Some useful functions, and examples of use of searching ALFALFA grids. \n",
    "Includes: \n",
    "* Plotting exisiting grids\n",
    "* Finding edge grids\n",
    "* Finding if a sky position is in a specific grid\n",
    "* Finding which grid(s) a sky position is in\n",
    "\n",
    "From Grid Finding Subgroup at the ALFLAFA Legacy Workshop, July 2025\n",
    "* Greg Hallenbeck\n",
    "* Karen Masters\n",
    "* Mike Jones\n",
    "* Catie Bell"
   ]
  },
  {
   "cell_type": "code",
   "execution_count": 124,
   "id": "cf2df634-ceec-406b-8d39-febae08fc192",
   "metadata": {},
   "outputs": [],
   "source": [
    "#Import statements\n",
    "\n",
    "import pandas as pd\n",
    "from astropy import units as u\n",
    "from astropy.coordinates import SkyCoord, Angle\n",
    "\n",
    "from astropy import wcs\n",
    "\n",
    "from regions import RectangleSkyRegion\n",
    "import numpy as np\n",
    "\n",
    "import matplotlib.pyplot as plt"
   ]
  },
  {
   "cell_type": "code",
   "execution_count": 136,
   "id": "bcb171ae-543b-4fbc-a253-eab59433f7fd",
   "metadata": {},
   "outputs": [],
   "source": [
    "#Defining some functions\n",
    "\n",
    "def makegridwcs(sky_center):\n",
    "    w = wcs.WCS(naxis=2)\n",
    "    w.wcs.crpix = [float(sky_center.ra/u.deg), float(sky_center.dec/u.deg)]\n",
    "    w.wcs.cdelt = [1.0,1.0]\n",
    "    w.wcs.crval = [float(sky_center.ra/u.deg), float(sky_center.dec/u.deg)]\n",
    "    w.wcs.ctype = [\"RA---CAR\", \"DEC--CAR\"]\n",
    "    return w\n",
    "\n",
    "def plotgrid(i):\n",
    "    sky_region = grids[\"box\"][i]\n",
    "    sky_center = grids[\"coord\"][i]\n",
    "    w = makegridwcs(sky_center)            \n",
    "    pixel_region = sky_region.to_pixel(w)\n",
    "    pixel_region.plot(ax=ax, color='red', lw=1.0)\n",
    "\n",
    "def grid_find(skycoord):\n",
    "    return grids.loc[grids[\"box\"].map(lambda x: x.contains(skycoord, makegridwcs(x.center))) ]"
   ]
  },
  {
   "cell_type": "code",
   "execution_count": 126,
   "id": "7820a440-9b10-4ab0-8096-22d664d41a9e",
   "metadata": {},
   "outputs": [],
   "source": [
    "#Opening the list of grids, and putting it into a Pandas database\n",
    "\n",
    "with open(\"gridlist_july2025.txt\", \"r\") as f:\n",
    "    grids = f.read().split()\n",
    "\n",
    "grids = pd.DataFrame({\"gridname\": grids})\n",
    "grids[\"coord\"] = grids.gridname.map(lambda x: SkyCoord(x[0:2] + \":\" + x[2:], unit=(u.hourangle, u.deg)))\n",
    "grids[\"box\"]   = grids.coord.map(lambda x:RectangleSkyRegion(x, width=2.4*u.deg, height = 2.4*u.deg))\n",
    "\n",
    "grids[\"ra\"] = grids[\"coord\"].map(lambda x: round(float(x.ra/u.deg)))\n",
    "grids[\"dec\"] = grids[\"coord\"].map(lambda x: round(float(x.dec/u.deg)))\n",
    "\n",
    "# This adds a True/False column for if a given grid is an edge grid\n",
    "grids[\"boundary\"] = True\n",
    "for i in range(len(grids)):\n",
    "    above = False\n",
    "    below = False\n",
    "    left = False\n",
    "    right = False\n",
    "    if len(grids.loc[(grids.ra[i] - grids.ra == 2) & (grids.dec[i] == grids.dec)]):\n",
    "        left = True\n",
    "    if len(grids.loc[(grids.ra[i] - grids.ra == -2) & (grids.dec[i] == grids.dec)]):\n",
    "        right = True\n",
    "    if len(grids.loc[(grids.dec[i] - grids.dec == 2) & (grids.ra[i] == grids.ra)]):\n",
    "        above = True\n",
    "    if len(grids.loc[(grids.dec[i] - grids.dec == -2) & (grids.ra[i] == grids.ra)]):\n",
    "        below = True\n",
    "    if above and below and left and right:\n",
    "        grids.loc[i, \"boundary\"] = False"
   ]
  },
  {
   "cell_type": "code",
   "execution_count": 139,
   "id": "bd280eb6-2d0e-41ca-9af4-4719eb46df9a",
   "metadata": {},
   "outputs": [
    {
     "data": {
      "text/html": [
       "<div>\n",
       "<style scoped>\n",
       "    .dataframe tbody tr th:only-of-type {\n",
       "        vertical-align: middle;\n",
       "    }\n",
       "\n",
       "    .dataframe tbody tr th {\n",
       "        vertical-align: top;\n",
       "    }\n",
       "\n",
       "    .dataframe thead th {\n",
       "        text-align: right;\n",
       "    }\n",
       "</style>\n",
       "<table border=\"1\" class=\"dataframe\">\n",
       "  <thead>\n",
       "    <tr style=\"text-align: right;\">\n",
       "      <th></th>\n",
       "      <th>gridname</th>\n",
       "      <th>coord</th>\n",
       "      <th>box</th>\n",
       "      <th>ra</th>\n",
       "      <th>dec</th>\n",
       "      <th>boundary</th>\n",
       "    </tr>\n",
       "  </thead>\n",
       "  <tbody>\n",
       "    <tr>\n",
       "      <th>0</th>\n",
       "      <td>0004+01</td>\n",
       "      <td>&lt;SkyCoord (ICRS): (ra, dec) in deg\\n    (1., 1.)&gt;</td>\n",
       "      <td>Region: RectangleSkyRegion\\ncenter: &lt;SkyCoord ...</td>\n",
       "      <td>1</td>\n",
       "      <td>1</td>\n",
       "      <td>True</td>\n",
       "    </tr>\n",
       "    <tr>\n",
       "      <th>1</th>\n",
       "      <td>0004+03</td>\n",
       "      <td>&lt;SkyCoord (ICRS): (ra, dec) in deg\\n    (1., 3.)&gt;</td>\n",
       "      <td>Region: RectangleSkyRegion\\ncenter: &lt;SkyCoord ...</td>\n",
       "      <td>1</td>\n",
       "      <td>3</td>\n",
       "      <td>True</td>\n",
       "    </tr>\n",
       "    <tr>\n",
       "      <th>2</th>\n",
       "      <td>0004+05</td>\n",
       "      <td>&lt;SkyCoord (ICRS): (ra, dec) in deg\\n    (1., 5.)&gt;</td>\n",
       "      <td>Region: RectangleSkyRegion\\ncenter: &lt;SkyCoord ...</td>\n",
       "      <td>1</td>\n",
       "      <td>5</td>\n",
       "      <td>True</td>\n",
       "    </tr>\n",
       "    <tr>\n",
       "      <th>3</th>\n",
       "      <td>0004+07</td>\n",
       "      <td>&lt;SkyCoord (ICRS): (ra, dec) in deg\\n    (1., 7.)&gt;</td>\n",
       "      <td>Region: RectangleSkyRegion\\ncenter: &lt;SkyCoord ...</td>\n",
       "      <td>1</td>\n",
       "      <td>7</td>\n",
       "      <td>True</td>\n",
       "    </tr>\n",
       "    <tr>\n",
       "      <th>4</th>\n",
       "      <td>0004+09</td>\n",
       "      <td>&lt;SkyCoord (ICRS): (ra, dec) in deg\\n    (1., 9.)&gt;</td>\n",
       "      <td>Region: RectangleSkyRegion\\ncenter: &lt;SkyCoord ...</td>\n",
       "      <td>1</td>\n",
       "      <td>9</td>\n",
       "      <td>True</td>\n",
       "    </tr>\n",
       "  </tbody>\n",
       "</table>\n",
       "</div>"
      ],
      "text/plain": [
       "  gridname                                              coord  \\\n",
       "0  0004+01  <SkyCoord (ICRS): (ra, dec) in deg\\n    (1., 1.)>   \n",
       "1  0004+03  <SkyCoord (ICRS): (ra, dec) in deg\\n    (1., 3.)>   \n",
       "2  0004+05  <SkyCoord (ICRS): (ra, dec) in deg\\n    (1., 5.)>   \n",
       "3  0004+07  <SkyCoord (ICRS): (ra, dec) in deg\\n    (1., 7.)>   \n",
       "4  0004+09  <SkyCoord (ICRS): (ra, dec) in deg\\n    (1., 9.)>   \n",
       "\n",
       "                                                 box  ra  dec  boundary  \n",
       "0  Region: RectangleSkyRegion\\ncenter: <SkyCoord ...   1    1      True  \n",
       "1  Region: RectangleSkyRegion\\ncenter: <SkyCoord ...   1    3      True  \n",
       "2  Region: RectangleSkyRegion\\ncenter: <SkyCoord ...   1    5      True  \n",
       "3  Region: RectangleSkyRegion\\ncenter: <SkyCoord ...   1    7      True  \n",
       "4  Region: RectangleSkyRegion\\ncenter: <SkyCoord ...   1    9      True  "
      ]
     },
     "execution_count": 139,
     "metadata": {},
     "output_type": "execute_result"
    }
   ],
   "source": [
    "grids.head()"
   ]
  },
  {
   "cell_type": "markdown",
   "id": "6fc84334-f772-4462-8183-37ede6275058",
   "metadata": {
    "scrolled": true
   },
   "source": [
    "## Plotting Grids\n",
    "\n",
    "1. Plot a single grid"
   ]
  },
  {
   "cell_type": "code",
   "execution_count": 138,
   "id": "fcee2f50-6944-417d-a137-0d4217833148",
   "metadata": {},
   "outputs": [
    {
     "data": {
      "image/png": "[encoded data removed]",
      "text/plain": [
       "<Figure size 1000x300 with 1 Axes>"
      ]
     },
     "metadata": {},
     "output_type": "display_data"
    }
   ],
   "source": [
    "fig, ax = plt.subplots(figsize=(10,3))\n",
    "\n",
    "#You have to manually enter the limits for your plot. \n",
    "plt.xlim(50, -5)\n",
    "plt.ylim(-5,37)\n",
    "plt.ylabel('Dec (deg)') \n",
    "plt.xlabel('RA (deg)')\n",
    "\n",
    "i=42\n",
    "plotgrid(i)"
   ]
  },
  {
   "cell_type": "markdown",
   "id": "abf7884a-dbb6-4766-9eeb-8da9ccb15352",
   "metadata": {},
   "source": [
    "2. Plot all the grids on a rectangular all Arecibo sky projection"
   ]
  },
  {
   "cell_type": "code",
   "execution_count": 137,
   "id": "d05011c0-6b32-4ab6-8316-3bfdff15c751",
   "metadata": {},
   "outputs": [
    {
     "data": {
      "image/png": "[encoded data removed]",
      "text/plain": [
       "<Figure size 1000x300 with 1 Axes>"
      ]
     },
     "metadata": {},
     "output_type": "display_data"
    }
   ],
   "source": [
    "fig, ax = plt.subplots(figsize=(10,3))\n",
    "plt.xlim(370, -5)\n",
    "plt.ylim(-5,37)\n",
    "plt.ylabel('Dec (deg)') \n",
    "plt.xlabel('RA (deg)')\n",
    "\n",
    "for i in range(len(grids)): plotgrid(i)"
   ]
  },
  {
   "cell_type": "markdown",
   "id": "ee9e7d7f-f7f9-403a-92a7-86f07ff04e26",
   "metadata": {},
   "source": [
    "## Grid Searching\n",
    "1. Is a sky position in a specific grid"
   ]
  },
  {
   "cell_type": "code",
   "execution_count": 115,
   "id": "eebb2887-5b0a-4de6-9f70-40d8328b7214",
   "metadata": {},
   "outputs": [
    {
     "data": {
      "text/plain": [
       "np.False_"
      ]
     },
     "execution_count": 115,
     "metadata": {},
     "output_type": "execute_result"
    }
   ],
   "source": [
    "# Enter your RA and Dec in decimal degrees, \n",
    "# or do something more complicated to make a SkyCoord object\n",
    "ra = 100\n",
    "dec = 30\n",
    "skycoord = SkyCoord(ra, dec, unit='deg')\n",
    "\n",
    "#Enter your grid number if you know it\n",
    "i=42 #Grid number\n",
    "sky_region = grids[\"box\"][i]\n",
    "\n",
    "sky_region.contains(skycoord, makegridwcs(sky_region.center))"
   ]
  },
  {
   "cell_type": "markdown",
   "id": "ee00481e-8324-4261-a236-ce6d0520727b",
   "metadata": {},
   "source": [
    "2. Which grid is a sky position in? "
   ]
  },
  {
   "cell_type": "code",
   "execution_count": 140,
   "id": "f99d39ae-e5fc-45ea-bd02-a2cf5584922f",
   "metadata": {},
   "outputs": [
    {
     "data": {
      "text/html": [
       "<div>\n",
       "<style scoped>\n",
       "    .dataframe tbody tr th:only-of-type {\n",
       "        vertical-align: middle;\n",
       "    }\n",
       "\n",
       "    .dataframe tbody tr th {\n",
       "        vertical-align: top;\n",
       "    }\n",
       "\n",
       "    .dataframe thead th {\n",
       "        text-align: right;\n",
       "    }\n",
       "</style>\n",
       "<table border=\"1\" class=\"dataframe\">\n",
       "  <thead>\n",
       "    <tr style=\"text-align: right;\">\n",
       "      <th></th>\n",
       "      <th>gridname</th>\n",
       "      <th>coord</th>\n",
       "      <th>box</th>\n",
       "      <th>ra</th>\n",
       "      <th>dec</th>\n",
       "      <th>boundary</th>\n",
       "    </tr>\n",
       "  </thead>\n",
       "  <tbody>\n",
       "    <tr>\n",
       "      <th>1143</th>\n",
       "      <td>1316+29</td>\n",
       "      <td>&lt;SkyCoord (ICRS): (ra, dec) in deg\\n    (199.,...</td>\n",
       "      <td>Region: RectangleSkyRegion\\ncenter: &lt;SkyCoord ...</td>\n",
       "      <td>199</td>\n",
       "      <td>29</td>\n",
       "      <td>False</td>\n",
       "    </tr>\n",
       "    <tr>\n",
       "      <th>1144</th>\n",
       "      <td>1316+31</td>\n",
       "      <td>&lt;SkyCoord (ICRS): (ra, dec) in deg\\n    (199.,...</td>\n",
       "      <td>Region: RectangleSkyRegion\\ncenter: &lt;SkyCoord ...</td>\n",
       "      <td>199</td>\n",
       "      <td>31</td>\n",
       "      <td>False</td>\n",
       "    </tr>\n",
       "    <tr>\n",
       "      <th>1161</th>\n",
       "      <td>1324+29</td>\n",
       "      <td>&lt;SkyCoord (ICRS): (ra, dec) in deg\\n    (201.,...</td>\n",
       "      <td>Region: RectangleSkyRegion\\ncenter: &lt;SkyCoord ...</td>\n",
       "      <td>201</td>\n",
       "      <td>29</td>\n",
       "      <td>False</td>\n",
       "    </tr>\n",
       "    <tr>\n",
       "      <th>1162</th>\n",
       "      <td>1324+31</td>\n",
       "      <td>&lt;SkyCoord (ICRS): (ra, dec) in deg\\n    (201.,...</td>\n",
       "      <td>Region: RectangleSkyRegion\\ncenter: &lt;SkyCoord ...</td>\n",
       "      <td>201</td>\n",
       "      <td>31</td>\n",
       "      <td>False</td>\n",
       "    </tr>\n",
       "  </tbody>\n",
       "</table>\n",
       "</div>"
      ],
      "text/plain": [
       "     gridname                                              coord  \\\n",
       "1143  1316+29  <SkyCoord (ICRS): (ra, dec) in deg\\n    (199.,...   \n",
       "1144  1316+31  <SkyCoord (ICRS): (ra, dec) in deg\\n    (199.,...   \n",
       "1161  1324+29  <SkyCoord (ICRS): (ra, dec) in deg\\n    (201.,...   \n",
       "1162  1324+31  <SkyCoord (ICRS): (ra, dec) in deg\\n    (201.,...   \n",
       "\n",
       "                                                    box   ra  dec  boundary  \n",
       "1143  Region: RectangleSkyRegion\\ncenter: <SkyCoord ...  199   29     False  \n",
       "1144  Region: RectangleSkyRegion\\ncenter: <SkyCoord ...  199   31     False  \n",
       "1161  Region: RectangleSkyRegion\\ncenter: <SkyCoord ...  201   29     False  \n",
       "1162  Region: RectangleSkyRegion\\ncenter: <SkyCoord ...  201   31     False  "
      ]
     },
     "execution_count": 140,
     "metadata": {},
     "output_type": "execute_result"
    }
   ],
   "source": [
    "# Enter your RA and Dec in decimal degrees, \n",
    "# or do something more complicated to make a SkyCoord object\n",
    "ra = 200\n",
    "dec = 30\n",
    "skycoord = SkyCoord(ra, dec, unit='deg')\n",
    "\n",
    "grid_find(skycoord)"
   ]
  }
 ],
 "metadata": {
  "kernelspec": {
   "display_name": "Python 3 (ipykernel)",
   "language": "python",
   "name": "python3"
  },
  "language_info": {
   "codemirror_mode": {
    "name": "ipython",
    "version": 3
   },
   "file_extension": ".py",
   "mimetype": "text/x-python",
   "name": "python",
   "nbconvert_exporter": "python",
   "pygments_lexer": "ipython3",
   "version": "3.11.13"
  }
 },
 "nbformat": 4,
 "nbformat_minor": 5
}
