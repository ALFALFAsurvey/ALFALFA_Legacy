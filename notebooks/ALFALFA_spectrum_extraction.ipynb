{
 "cells": [
  {
   "cell_type": "code",
   "execution_count": null,
   "id": "4419c7ab-6dfc-4c89-bb55-b05c32d0868c",
   "metadata": {},
   "outputs": [],
   "source": [
    "import os\n",
    "import numpy, astropy\n",
    "import astropy.io.fits as fits\n",
    "from astropy.coordinates import SkyCoord\n",
    "from astropy.wcs import WCS\n",
    "from astropy.table import Table\n",
    "import astropy.units as u\n",
    "import matplotlib.pyplot as plt\n",
    "from photutils.aperture import SkyEllipticalAperture, EllipticalAperture, SkyRectangularAperture, RectangularAperture "
   ]
  },
  {
   "cell_type": "markdown",
   "id": "4cd2cc17-d930-4f11-96db-cb276dd95552",
   "metadata": {},
   "source": [
    "This notebook takes an ALFALFA cube and extract a 1-dimensional spectrum at a specified location. It does this first over an area equal to the beam shape and then over a larger square region.\n",
    "\n",
    "**Note**: You will need the ALFALFA 1044+13 grid in that data directory in order for this notebook to run successfully. You can obtain this by running the [download_example_data.py](../scripts/download_example_data.py) script in the scripts directory. If you wish to run this with other grids then you can find instructions for accessing the grids in the [grid_access.md](../docs/grid_access.md) file in the docs folder or illustrated instructions on the [wiki](https://github.com/jonesmg/ALFALFA_Legacy/wiki/Grid-access-via-NRAO-archive)."
   ]
  },
  {
   "cell_type": "code",
   "execution_count": null,
   "id": "fd1226dc-e64c-42d3-88d1-9a46057205ea",
   "metadata": {},
   "outputs": [],
   "source": [
    "#Define the path to the data\n",
    "#You should already have run the data download script\n",
    "cwd = os.getcwd()+'/'\n",
    "data_path = cwd+'../data/A2010/pipeline.unknown_date/'"
   ]
  },
  {
   "cell_type": "code",
   "execution_count": null,
   "id": "e180bcb9-7917-41ce-84fd-3606554a25d0",
   "metadata": {},
   "outputs": [],
   "source": [
    "#Define the grid you are using\n",
    "grid_ra = '1044'\n",
    "grid_dec = '13'\n",
    "freq_slice = 'a'\n",
    "\n",
    "grid_filename = f'{grid_ra}+{grid_dec}{freq_slice}_spectral.fits'\n",
    "\n",
    "#Open cube FITS files\n",
    "hdu = fits.open(os.path.join(data_path, grid_filename))\n",
    "\n",
    "#Extract the data from fits file and average together the two polarizations\n",
    "cube = numpy.mean(hdu[0].data,axis=0)\n",
    "\n",
    "#Make header\n",
    "header = hdu[0].header\n",
    "\n",
    "#Extract beam parameters\n",
    "bmaj, bmin, bpa = header['BMAJ']*u.deg, header['BMIN']*u.deg, 0*u.deg\n",
    "pixsize = header['CDELT2']*u.deg\n",
    "\n",
    "#Make the beam correction factor\n",
    "beam_factor = (numpy.pi*bmaj*bmin/(pixsize**2.))/(4.*numpy.log(2.))\n",
    "\n",
    "#Extract the channel width from the header and build frequency array\n",
    "chan_df = header['CDELT3']*u.MHz\n",
    "freq = (header['CRVAL3'] + header['CDELT3']*(numpy.arange(0,1024,1)-(header[\"CRPIX3\"]-1)))*u.MHz\n",
    "\n",
    "#Now build velocity array\n",
    "rest_freq = hdu[0].header['RESTFREQ']*u.MHz/1E6\n",
    "freq_to_vel = u.doppler_radio(rest_freq)\n",
    "vel = freq.to(u.km / u.s, equivalencies=freq_to_vel)\n",
    "\n",
    "#Make World Coordinate System\n",
    "grid_wcs = WCS(header).celestial"
   ]
  },
  {
   "cell_type": "code",
   "execution_count": null,
   "id": "4078ba67-f1be-4ce0-b9d4-07cd83094983",
   "metadata": {},
   "outputs": [],
   "source": [
    "#Start by extracting a spectrum in the shape of the beam\n",
    "\n",
    "#Define a position to extract a spectrum at\n",
    "#In this case we will use NGC3338\n",
    "spec_pos = SkyCoord(160.531332, 13.747050, unit=u.deg)\n",
    "\n",
    "#Make an aperture that's at least twice the size of the beam\n",
    "sky_aperture = SkyEllipticalAperture(spec_pos, a=bmaj, b=bmin, theta=bpa)\n",
    "\n",
    "#Convert to a pixel aperture\n",
    "pix_aperture = sky_aperture.to_pixel(grid_wcs)"
   ]
  },
  {
   "cell_type": "code",
   "execution_count": null,
   "id": "fb8bdadd-89c2-4029-bc6e-85d885ba6882",
   "metadata": {},
   "outputs": [],
   "source": [
    "#Plot the aperture on the grid\n",
    "\n",
    "fig = plt.figure(figsize=(8,8))\n",
    "ax = plt.subplot(projection=grid_wcs)\n",
    "plt.imshow(cube.sum(axis=0), origin='lower', cmap='Greys', aspect='equal')\n",
    "\n",
    "pix_aperture.plot(color='orange',lw=1.5,ls='-')\n",
    "\n",
    "plt.xlabel(r'RA')\n",
    "plt.ylabel(r'Dec')"
   ]
  },
  {
   "cell_type": "code",
   "execution_count": null,
   "id": "ab1dec51-5e8e-4021-b6cb-0caa8b6c0574",
   "metadata": {},
   "outputs": [],
   "source": [
    "#Now extract the spectrum\n",
    "pix_aperture_mask = pix_aperture.to_mask(method='exact')\n",
    "\n",
    "#Create empty spectrum\n",
    "spec = numpy.zeros(len(freq))\n",
    "\n",
    "#Step through cube channels and extract flux in each\n",
    "for i in range(len(spec)):\n",
    "    spec[i] = numpy.sum(pix_aperture_mask.multiply(cube[i]))/beam_factor\n",
    "\n",
    "#Set units\n",
    "spec = spec*u.mJy"
   ]
  },
  {
   "cell_type": "code",
   "execution_count": null,
   "id": "c902638d-bd76-447c-8bbb-ae6f7784a1e8",
   "metadata": {},
   "outputs": [],
   "source": [
    "plt.plot(vel,spec)\n",
    "\n",
    "plt.axhline(0.,c='k',lw=1)\n",
    "plt.ylim(-10.,600.)\n",
    "\n",
    "plt.xlabel('Velocity [km/s] (Heliocentric)')\n",
    "plt.ylabel('Flux Density [mJy]')"
   ]
  },
  {
   "cell_type": "markdown",
   "id": "a29ce626-d448-4c97-bfe9-8eae972bb79c",
   "metadata": {},
   "source": [
    "The spectral profile looks quite peculiar, this is likely because the source is extended and we are therefore not including all the emission.</br></br> Now let's switch to using a large 20'x20' square extraction region."
   ]
  },
  {
   "cell_type": "code",
   "execution_count": null,
   "id": "c4c17adb-3311-4814-a2f8-b96ba668775b",
   "metadata": {},
   "outputs": [],
   "source": [
    "#Make an aperture that's the same shape as the beam\n",
    "sky_aperture = SkyRectangularAperture(spec_pos,w=20*u.arcmin,h=20*u.arcmin)\n",
    "\n",
    "#Convert to a pixel aperture\n",
    "pix_aperture = sky_aperture.to_pixel(grid_wcs)"
   ]
  },
  {
   "cell_type": "code",
   "execution_count": null,
   "id": "29a974ab-3ad4-44d2-8515-3b32b551c0b2",
   "metadata": {},
   "outputs": [],
   "source": [
    "#Plot the aperture on the grid\n",
    "\n",
    "fig = plt.figure(figsize=(8,8))\n",
    "ax = plt.subplot(projection=grid_wcs)\n",
    "plt.imshow(cube.sum(axis=0), origin='lower', cmap='Greys', aspect='equal')\n",
    "\n",
    "pix_aperture.plot(color='orange',lw=1.5,ls='-')\n",
    "\n",
    "plt.xlabel(r'RA')\n",
    "plt.ylabel(r'Dec')"
   ]
  },
  {
   "cell_type": "code",
   "execution_count": null,
   "id": "4c111de4-df99-41d9-a4d2-e281e3c1b6c9",
   "metadata": {},
   "outputs": [],
   "source": [
    "#Now extract the spectrum\n",
    "pix_aperture_mask = pix_aperture.to_mask(method='exact')\n",
    "\n",
    "#Create empty spectrum\n",
    "spec = numpy.zeros(len(freq))\n",
    "\n",
    "#Step through cube channels and extract flux in each\n",
    "for i in range(len(spec)):\n",
    "    spec[i] = numpy.sum(pix_aperture_mask.multiply(cube[i]))/beam_factor\n",
    "\n",
    "#Set units\n",
    "spec = spec*u.mJy"
   ]
  },
  {
   "cell_type": "code",
   "execution_count": null,
   "id": "8b93c554-ec8d-48c5-bf6f-9b6cb06d5ac3",
   "metadata": {},
   "outputs": [],
   "source": [
    "plt.plot(vel,spec)\n",
    "\n",
    "plt.axhline(0.,c='k',lw=1)\n",
    "plt.ylim(-50.,1200.)\n",
    "\n",
    "plt.xlabel('Velocity [km/s] (Heliocentric)')\n",
    "plt.ylabel('Flux Density [mJy]')"
   ]
  },
  {
   "cell_type": "markdown",
   "id": "08cae5f1-4151-429d-a336-dc3eb0361b95",
   "metadata": {},
   "source": [
    "Now let's compare with the spectrum catalogued in ALFALFA. You will see that a.100 extracted spectrum misses half of the flux. This is expected for the extended source as noted in Haynes+18. "
   ]
  },
  {
   "cell_type": "code",
   "execution_count": null,
   "id": "d1df5788-d41c-4018-9617-2bed8edecbc3",
   "metadata": {},
   "outputs": [],
   "source": [
    "alf_spec = Table.read(\"https://vizier.cds.unistra.fr/viz-bin/ftp-index?J/ApJ/861/49/sp/A005826.fits\")"
   ]
  },
  {
   "cell_type": "code",
   "execution_count": null,
   "id": "55cf5c74-7513-49b2-8a7e-c15de6ed94ce",
   "metadata": {},
   "outputs": [],
   "source": [
    "plt.plot(vel,spec, label=\"Extracted\")\n",
    "plt.plot(alf_spec[\"VHELIO\"], alf_spec[\"FLUX\"], label=\"a.100\")\n",
    "\n",
    "plt.axhline(0.,c='k',lw=1)\n",
    "plt.ylim(-50.,1200.)\n",
    "\n",
    "plt.xlabel('Velocity [km/s] (Heliocentric)')\n",
    "plt.ylabel('Flux Density [mJy]')\n",
    "\n",
    "plt.legend()"
   ]
  },
  {
   "cell_type": "code",
   "execution_count": null,
   "id": "f7656c1d-6022-4eea-af9c-39ee533209ea",
   "metadata": {},
   "outputs": [],
   "source": []
  }
 ],
 "metadata": {
  "kernelspec": {
   "display_name": "Python 3 (ipykernel)",
   "language": "python",
   "name": "python3"
  },
  "language_info": {
   "codemirror_mode": {
    "name": "ipython",
    "version": 3
   },
   "file_extension": ".py",
   "mimetype": "text/x-python",
   "name": "python",
   "nbconvert_exporter": "python",
   "pygments_lexer": "ipython3",
   "version": "3.11.11"
  },
  "widgets": {
   "application/vnd.jupyter.widget-state+json": {
    "state": {},
    "version_major": 2,
    "version_minor": 0
   }
  }
 },
 "nbformat": 4,
 "nbformat_minor": 5
}
