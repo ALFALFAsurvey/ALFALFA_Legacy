{
 "cells": [
  {
   "cell_type": "code",
   "execution_count": null,
   "id": "2fc6e32715ea5faf",
   "metadata": {},
   "outputs": [],
   "source": [
    "import os, sys\n",
    "import numpy, astropy\n",
    "import astropy.io.fits as fits\n",
    "from astropy.coordinates import SkyCoord\n",
    "from astropy.wcs import WCS\n",
    "from astropy.table import Table\n",
    "import astropy.units as u\n",
    "import matplotlib.pyplot as plt\n",
    "from photutils.aperture import SkyEllipticalAperture, EllipticalAperture, SkyRectangularAperture, RectangularAperture \n",
    "\n",
    "#Add the scripts directory path\n",
    "scripts_path = os.path.abspath(\"../scripts\")\n",
    "sys.path.append(scripts_path)\n",
    "\n",
    "from load_grid import load_grid"
   ]
  },
  {
   "cell_type": "markdown",
   "id": "79a2edd25e56218",
   "metadata": {},
   "source": [
    "This notebook takes an ALFALFA cube and extract a 1-dimensional spectrum at a specified location. It does this first over an area equal to the beam shape and then over a larger square region.\n",
    "\n",
    "**Note**: You will need the ALFALFA 1044+13 grid in that data directory in order for this notebook to run successfully. You can obtain this by running the [download_example_data.py](../scripts/download_example_data.py) script in the scripts directory. If you wish to run this with other grids then you can find instructions for accessing the grids in the [grid_access.md](../docs/grid_access.md) file in the docs folder or illustrated instructions on the [wiki](https://github.com/jonesmg/ALFALFA_Legacy/wiki/Grid-access-via-NRAO-archive)."
   ]
  },
  {
   "cell_type": "code",
   "execution_count": null,
   "id": "b811062d18128fc4",
   "metadata": {},
   "outputs": [],
   "source": [
    "#Define the path to the data\n",
    "#You should already have run the data download script\n",
    "cwd = os.getcwd()+'/'\n",
    "data_path = cwd+'../data/A2010/pipeline.unknown_date/'"
   ]
  },
  {
   "cell_type": "code",
   "execution_count": null,
   "id": "2860b9a3d3e9948c",
   "metadata": {},
   "outputs": [],
   "source": [
    "#Define the grid you are using\n",
    "grid_ra = '1044'\n",
    "grid_dec = '13'\n",
    "freq_slice = 'a'\n",
    "\n",
    "#Use the load_grid function to load the cube and WCS\n",
    "cube, freq, vel, grid_wcs, header = load_grid(data_path,grid_ra,grid_dec,freq_slice)\n",
    "\n",
    "#Average together the two polarizations\n",
    "cube = numpy.mean(cube,axis=0)\n",
    "\n",
    "#Extract beam parameters\n",
    "bmaj, bmin, bpa = header['BMAJ']*u.deg, header['BMIN']*u.deg, 0*u.deg\n",
    "pixsize = header['CDELT2']*u.deg\n",
    "\n",
    "#Make the beam correction factor\n",
    "beam_factor = (numpy.pi*bmaj*bmin/(pixsize**2.))/(4.*numpy.log(2.))\n",
    "\n",
    "#Extract the channel width from the header and build frequency array\n",
    "chan_df = header['CDELT3']*u.MHz"
   ]
  },
  {
   "cell_type": "code",
   "execution_count": null,
   "id": "5a9361f4253828c2",
   "metadata": {},
   "outputs": [],
   "source": [
    "#Start by extracting a spectrum in the shape of the beam\n",
    "\n",
    "#Define a position to extract a spectrum at\n",
    "#In this case we will use NGC3338\n",
    "spec_pos = SkyCoord(160.531332, 13.747050, unit=u.deg)\n",
    "\n",
    "#Make an aperture that's at least twice the size of the beam\n",
    "sky_aperture = SkyEllipticalAperture(spec_pos, a=bmaj, b=bmin, theta=bpa)\n",
    "\n",
    "#Convert to a pixel aperture\n",
    "pix_aperture = sky_aperture.to_pixel(grid_wcs.celestial)"
   ]
  },
  {
   "cell_type": "code",
   "execution_count": null,
   "id": "aa1b9e2e9c7ee6cd",
   "metadata": {},
   "outputs": [],
   "source": [
    "#Plot the aperture on the grid\n",
    "\n",
    "fig = plt.figure(figsize=(8,8))\n",
    "ax = plt.subplot(projection=grid_wcs.celestial)\n",
    "plt.imshow(cube.sum(axis=0), origin='lower', cmap='Greys', aspect='equal')\n",
    "\n",
    "pix_aperture.plot(color='orange',lw=1.5,ls='-')\n",
    "\n",
    "plt.xlabel(r'RA')\n",
    "plt.ylabel(r'Dec')"
   ]
  },
  {
   "cell_type": "code",
   "execution_count": null,
   "id": "eaf3b08e63e60894",
   "metadata": {},
   "outputs": [],
   "source": [
    "#Now extract the spectrum\n",
    "pix_aperture_mask = pix_aperture.to_mask(method='exact')\n",
    "\n",
    "#Create empty spectrum\n",
    "spec = numpy.zeros(len(freq))\n",
    "\n",
    "#Step through cube channels and extract flux in each\n",
    "for i in range(len(spec)):\n",
    "    spec[i] = numpy.sum(pix_aperture_mask.multiply(cube[i]))/beam_factor\n",
    "\n",
    "#Set units\n",
    "spec = spec*u.mJy"
   ]
  },
  {
   "cell_type": "code",
   "execution_count": null,
   "id": "503a09bd4e82168a",
   "metadata": {},
   "outputs": [],
   "source": [
    "plt.plot(vel,spec)\n",
    "\n",
    "plt.axhline(0.,c='k',lw=1)\n",
    "plt.ylim(-10.,600.)\n",
    "\n",
    "plt.xlabel('Velocity [km/s] (Heliocentric)')\n",
    "plt.ylabel('Flux Density [mJy]')"
   ]
  },
  {
   "cell_type": "markdown",
   "id": "5a1fbafb0e08e72d",
   "metadata": {},
   "source": [
    "The spectral profile looks quite peculiar, this is likely because the source is extended and we are therefore not including all the emission.</br></br> Now let's switch to using a large 20'x20' square extraction region."
   ]
  },
  {
   "cell_type": "code",
   "execution_count": null,
   "id": "506ef180aaa90a82",
   "metadata": {},
   "outputs": [],
   "source": [
    "#Make a rectangular aperture that's 20x20 arcmin\n",
    "sky_aperture = SkyRectangularAperture(spec_pos,w=20*u.arcmin,h=20*u.arcmin)\n",
    "\n",
    "#Convert to a pixel aperture\n",
    "pix_aperture = sky_aperture.to_pixel(grid_wcs.celestial)"
   ]
  },
  {
   "cell_type": "code",
   "execution_count": null,
   "id": "cbcab59bcbd9e3c1",
   "metadata": {},
   "outputs": [],
   "source": [
    "#Plot the aperture on the grid\n",
    "\n",
    "fig = plt.figure(figsize=(8,8))\n",
    "ax = plt.subplot(projection=grid_wcs.celestial)\n",
    "plt.imshow(cube.sum(axis=0), origin='lower', cmap='Greys', aspect='equal')\n",
    "\n",
    "pix_aperture.plot(color='orange',lw=1.5,ls='-')\n",
    "\n",
    "plt.xlabel(r'RA')\n",
    "plt.ylabel(r'Dec')"
   ]
  },
  {
   "cell_type": "code",
   "execution_count": null,
   "id": "a02af54c31088a6d",
   "metadata": {},
   "outputs": [],
   "source": [
    "#Now extract the spectrum\n",
    "pix_aperture_mask = pix_aperture.to_mask(method='exact')\n",
    "\n",
    "#Create empty spectrum\n",
    "spec = numpy.zeros(len(freq))\n",
    "\n",
    "#Step through cube channels and extract flux in each\n",
    "for i in range(len(spec)):\n",
    "    spec[i] = numpy.sum(pix_aperture_mask.multiply(cube[i]))/beam_factor\n",
    "\n",
    "#Set units\n",
    "spec = spec*u.mJy"
   ]
  },
  {
   "cell_type": "code",
   "execution_count": null,
   "id": "acfbc876b2765123",
   "metadata": {},
   "outputs": [],
   "source": [
    "plt.plot(vel,spec)\n",
    "\n",
    "plt.axhline(0.,c='k',lw=1)\n",
    "plt.ylim(-50.,1200.)\n",
    "\n",
    "plt.xlabel('Velocity [km/s] (Heliocentric)')\n",
    "plt.ylabel('Flux Density [mJy]')"
   ]
  },
  {
   "cell_type": "markdown",
   "id": "19181d7742565aca",
   "metadata": {},
   "source": [
    "Now let's compare with the spectrum catalogued in ALFALFA. You will see that a.100 extracted spectrum misses half of the flux. This is expected for the extended source as noted in Haynes+18. "
   ]
  },
  {
   "cell_type": "code",
   "execution_count": null,
   "id": "4c57cbeae1e172f",
   "metadata": {},
   "outputs": [],
   "source": [
    "alf_spec = Table.read(\"https://vizier.cds.unistra.fr/viz-bin/ftp-index?J/ApJ/861/49/sp/A005826.fits\")"
   ]
  },
  {
   "cell_type": "code",
   "execution_count": null,
   "id": "56de386b9ef867ab",
   "metadata": {},
   "outputs": [],
   "source": [
    "plt.plot(vel,spec, label=\"Extracted\")\n",
    "plt.plot(alf_spec[\"VHELIO\"], alf_spec[\"FLUX\"], label=\"a.100\")\n",
    "\n",
    "plt.axhline(0.,c='k',lw=1)\n",
    "plt.ylim(-50.,1200.)\n",
    "\n",
    "plt.xlabel('Velocity [km/s] (Heliocentric)')\n",
    "plt.ylabel('Flux Density [mJy]')\n",
    "\n",
    "plt.legend()"
   ]
  }
 ],
 "metadata": {
  "kernelspec": {
   "display_name": "Python [conda env:AALegacy]",
   "language": "python",
   "name": "conda-env-AALegacy-py"
  },
  "language_info": {
   "codemirror_mode": {
    "name": "ipython",
    "version": 3
   },
   "file_extension": ".py",
   "mimetype": "text/x-python",
   "name": "python",
   "nbconvert_exporter": "python",
   "pygments_lexer": "ipython3",
   "version": "3.11.13"
  }
 },
 "nbformat": 4,
 "nbformat_minor": 5
}
